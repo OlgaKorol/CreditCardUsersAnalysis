{
 "cells": [
  {
   "cell_type": "markdown",
   "id": "74e89695",
   "metadata": {},
   "source": [
    "# Baigiamasis Darbas 'Kredito kortelės naudotojų analizė'"
   ]
  },
  {
   "cell_type": "code",
   "execution_count": null,
   "id": "a780acfa",
   "metadata": {},
   "outputs": [],
   "source": [
    "# Turime dvi lenteles 'application_record' ir 'credit_record' su kredito kortelių naudotojų asmens duomenimis \n",
    "# ir informacija apie paskolos grąžinimą mėnesiais:\n",
    "\n",
    "# Darbo tikslas išnagrinėti:\n",
    "#   1. kredito kortelių naudotojų portretą (Kas daugiau naudojasi kredito mokėjimo kortelėmis?)\n",
    "#   2. apskaičiuojant kiekvieno naudotojo kredito reitingą, išnagrinėti, kas turi įtakos kredito reitingui?\n",
    "#   3. kaip priklauso paskolos grąžinimo lygį nuo tokių asmens duomenų kaip lytis, amžius, išsilavinimas, \n",
    "# profesijos tipas, automobilio turėjimas, pajamų šaltinis, šeiminė padėtis, šeimos dydis, darbo stažas, \n",
    "# vaikų skaičius, nekilnojamojo turto turėjimas, būsto tipas?\n",
    "#   4. koreliaciją tarp pajamų dydžio ir kreditinių kortelių skolos(Ar mažiau uždirbančių žmonės skolinasi daugiau?)"
   ]
  },
  {
   "cell_type": "markdown",
   "id": "d09a64dc",
   "metadata": {},
   "source": [
    "![](https://www.pngall.com/wp-content/uploads/2/Credit-Card-Transparent.png)"
   ]
  },
  {
   "cell_type": "markdown",
   "id": "74371ec6",
   "metadata": {},
   "source": [
    "## Duomenų lentelių informacija"
   ]
  },
  {
   "cell_type": "code",
   "execution_count": 348,
   "id": "0fa68055",
   "metadata": {},
   "outputs": [],
   "source": [
    "import pandas as pd\n",
    "import numpy as np\n",
    "import mysql.connector\n",
    "import seaborn as sns"
   ]
  },
  {
   "cell_type": "code",
   "execution_count": 346,
   "id": "c04778e2",
   "metadata": {},
   "outputs": [
    {
     "data": {
      "text/html": [
       "<div>\n",
       "<style scoped>\n",
       "    .dataframe tbody tr th:only-of-type {\n",
       "        vertical-align: middle;\n",
       "    }\n",
       "\n",
       "    .dataframe tbody tr th {\n",
       "        vertical-align: top;\n",
       "    }\n",
       "\n",
       "    .dataframe thead th {\n",
       "        text-align: right;\n",
       "    }\n",
       "</style>\n",
       "<table border=\"1\" class=\"dataframe\">\n",
       "  <thead>\n",
       "    <tr style=\"text-align: right;\">\n",
       "      <th></th>\n",
       "      <th>id</th>\n",
       "      <th>gender</th>\n",
       "      <th>car</th>\n",
       "      <th>realty</th>\n",
       "      <th>housing_type</th>\n",
       "      <th>marital_status</th>\n",
       "      <th>children</th>\n",
       "      <th>family_size</th>\n",
       "      <th>annual_income</th>\n",
       "      <th>income_type</th>\n",
       "      <th>occupation</th>\n",
       "      <th>education_level</th>\n",
       "      <th>days_birth</th>\n",
       "      <th>days_employed</th>\n",
       "    </tr>\n",
       "  </thead>\n",
       "  <tbody>\n",
       "    <tr>\n",
       "      <th>0</th>\n",
       "      <td>5008804</td>\n",
       "      <td>M</td>\n",
       "      <td>Y</td>\n",
       "      <td>Y</td>\n",
       "      <td>Rented apartment</td>\n",
       "      <td>Civil marriage</td>\n",
       "      <td>0</td>\n",
       "      <td>2.0</td>\n",
       "      <td>427500.0</td>\n",
       "      <td>Working</td>\n",
       "      <td></td>\n",
       "      <td>Higher education</td>\n",
       "      <td>-12005</td>\n",
       "      <td>-4542</td>\n",
       "    </tr>\n",
       "    <tr>\n",
       "      <th>1</th>\n",
       "      <td>5008805</td>\n",
       "      <td>M</td>\n",
       "      <td>Y</td>\n",
       "      <td>Y</td>\n",
       "      <td>Rented apartment</td>\n",
       "      <td>Civil marriage</td>\n",
       "      <td>0</td>\n",
       "      <td>2.0</td>\n",
       "      <td>427500.0</td>\n",
       "      <td>Working</td>\n",
       "      <td></td>\n",
       "      <td>Higher education</td>\n",
       "      <td>-12005</td>\n",
       "      <td>-4542</td>\n",
       "    </tr>\n",
       "    <tr>\n",
       "      <th>2</th>\n",
       "      <td>5008806</td>\n",
       "      <td>M</td>\n",
       "      <td>Y</td>\n",
       "      <td>Y</td>\n",
       "      <td>House / apartment</td>\n",
       "      <td>Married</td>\n",
       "      <td>0</td>\n",
       "      <td>2.0</td>\n",
       "      <td>112500.0</td>\n",
       "      <td>Working</td>\n",
       "      <td>Security staff</td>\n",
       "      <td>Secondary / secondary special</td>\n",
       "      <td>-21474</td>\n",
       "      <td>-1134</td>\n",
       "    </tr>\n",
       "    <tr>\n",
       "      <th>3</th>\n",
       "      <td>5008808</td>\n",
       "      <td>F</td>\n",
       "      <td>N</td>\n",
       "      <td>Y</td>\n",
       "      <td>House / apartment</td>\n",
       "      <td>Single / not married</td>\n",
       "      <td>0</td>\n",
       "      <td>1.0</td>\n",
       "      <td>270000.0</td>\n",
       "      <td>Commercial associate</td>\n",
       "      <td>Sales staff</td>\n",
       "      <td>Secondary / secondary special</td>\n",
       "      <td>-19110</td>\n",
       "      <td>-3051</td>\n",
       "    </tr>\n",
       "    <tr>\n",
       "      <th>4</th>\n",
       "      <td>5008809</td>\n",
       "      <td>F</td>\n",
       "      <td>N</td>\n",
       "      <td>Y</td>\n",
       "      <td>House / apartment</td>\n",
       "      <td>Single / not married</td>\n",
       "      <td>0</td>\n",
       "      <td>1.0</td>\n",
       "      <td>270000.0</td>\n",
       "      <td>Commercial associate</td>\n",
       "      <td>Sales staff</td>\n",
       "      <td>Secondary / secondary special</td>\n",
       "      <td>-19110</td>\n",
       "      <td>-3051</td>\n",
       "    </tr>\n",
       "    <tr>\n",
       "      <th>...</th>\n",
       "      <td>...</td>\n",
       "      <td>...</td>\n",
       "      <td>...</td>\n",
       "      <td>...</td>\n",
       "      <td>...</td>\n",
       "      <td>...</td>\n",
       "      <td>...</td>\n",
       "      <td>...</td>\n",
       "      <td>...</td>\n",
       "      <td>...</td>\n",
       "      <td>...</td>\n",
       "      <td>...</td>\n",
       "      <td>...</td>\n",
       "      <td>...</td>\n",
       "    </tr>\n",
       "    <tr>\n",
       "      <th>438552</th>\n",
       "      <td>6840104</td>\n",
       "      <td>M</td>\n",
       "      <td>N</td>\n",
       "      <td>Y</td>\n",
       "      <td>House / apartment</td>\n",
       "      <td>Separated</td>\n",
       "      <td>0</td>\n",
       "      <td>1.0</td>\n",
       "      <td>135000.0</td>\n",
       "      <td>Pensioner</td>\n",
       "      <td></td>\n",
       "      <td>Secondary / secondary special</td>\n",
       "      <td>-22717</td>\n",
       "      <td>365243</td>\n",
       "    </tr>\n",
       "    <tr>\n",
       "      <th>438553</th>\n",
       "      <td>6840222</td>\n",
       "      <td>F</td>\n",
       "      <td>N</td>\n",
       "      <td>N</td>\n",
       "      <td>House / apartment</td>\n",
       "      <td>Single / not married</td>\n",
       "      <td>0</td>\n",
       "      <td>1.0</td>\n",
       "      <td>103500.0</td>\n",
       "      <td>Working</td>\n",
       "      <td>Laborers</td>\n",
       "      <td>Secondary / secondary special</td>\n",
       "      <td>-15939</td>\n",
       "      <td>-3007</td>\n",
       "    </tr>\n",
       "    <tr>\n",
       "      <th>438554</th>\n",
       "      <td>6841878</td>\n",
       "      <td>F</td>\n",
       "      <td>N</td>\n",
       "      <td>N</td>\n",
       "      <td>With parents</td>\n",
       "      <td>Single / not married</td>\n",
       "      <td>0</td>\n",
       "      <td>1.0</td>\n",
       "      <td>54000.0</td>\n",
       "      <td>Commercial associate</td>\n",
       "      <td>Sales staff</td>\n",
       "      <td>Higher education</td>\n",
       "      <td>-8169</td>\n",
       "      <td>-372</td>\n",
       "    </tr>\n",
       "    <tr>\n",
       "      <th>438555</th>\n",
       "      <td>6842765</td>\n",
       "      <td>F</td>\n",
       "      <td>N</td>\n",
       "      <td>Y</td>\n",
       "      <td>House / apartment</td>\n",
       "      <td>Married</td>\n",
       "      <td>0</td>\n",
       "      <td>2.0</td>\n",
       "      <td>72000.0</td>\n",
       "      <td>Pensioner</td>\n",
       "      <td></td>\n",
       "      <td>Secondary / secondary special</td>\n",
       "      <td>-21673</td>\n",
       "      <td>365243</td>\n",
       "    </tr>\n",
       "    <tr>\n",
       "      <th>438556</th>\n",
       "      <td>6842885</td>\n",
       "      <td>F</td>\n",
       "      <td>N</td>\n",
       "      <td>Y</td>\n",
       "      <td>House / apartment</td>\n",
       "      <td>Married</td>\n",
       "      <td>0</td>\n",
       "      <td>2.0</td>\n",
       "      <td>121500.0</td>\n",
       "      <td>Working</td>\n",
       "      <td>Sales staff</td>\n",
       "      <td>Secondary / secondary special</td>\n",
       "      <td>-18858</td>\n",
       "      <td>-1201</td>\n",
       "    </tr>\n",
       "  </tbody>\n",
       "</table>\n",
       "<p>438557 rows × 14 columns</p>\n",
       "</div>"
      ],
      "text/plain": [
       "             id gender car realty       housing_type        marital_status  \\\n",
       "0       5008804      M   Y      Y   Rented apartment        Civil marriage   \n",
       "1       5008805      M   Y      Y   Rented apartment        Civil marriage   \n",
       "2       5008806      M   Y      Y  House / apartment               Married   \n",
       "3       5008808      F   N      Y  House / apartment  Single / not married   \n",
       "4       5008809      F   N      Y  House / apartment  Single / not married   \n",
       "...         ...    ...  ..    ...                ...                   ...   \n",
       "438552  6840104      M   N      Y  House / apartment             Separated   \n",
       "438553  6840222      F   N      N  House / apartment  Single / not married   \n",
       "438554  6841878      F   N      N       With parents  Single / not married   \n",
       "438555  6842765      F   N      Y  House / apartment               Married   \n",
       "438556  6842885      F   N      Y  House / apartment               Married   \n",
       "\n",
       "        children  family_size  annual_income           income_type  \\\n",
       "0              0          2.0       427500.0               Working   \n",
       "1              0          2.0       427500.0               Working   \n",
       "2              0          2.0       112500.0               Working   \n",
       "3              0          1.0       270000.0  Commercial associate   \n",
       "4              0          1.0       270000.0  Commercial associate   \n",
       "...          ...          ...            ...                   ...   \n",
       "438552         0          1.0       135000.0             Pensioner   \n",
       "438553         0          1.0       103500.0               Working   \n",
       "438554         0          1.0        54000.0  Commercial associate   \n",
       "438555         0          2.0        72000.0             Pensioner   \n",
       "438556         0          2.0       121500.0               Working   \n",
       "\n",
       "            occupation                education_level  days_birth  \\\n",
       "0                                    Higher education      -12005   \n",
       "1                                    Higher education      -12005   \n",
       "2       Security staff  Secondary / secondary special      -21474   \n",
       "3          Sales staff  Secondary / secondary special      -19110   \n",
       "4          Sales staff  Secondary / secondary special      -19110   \n",
       "...                ...                            ...         ...   \n",
       "438552                  Secondary / secondary special      -22717   \n",
       "438553        Laborers  Secondary / secondary special      -15939   \n",
       "438554     Sales staff               Higher education       -8169   \n",
       "438555                  Secondary / secondary special      -21673   \n",
       "438556     Sales staff  Secondary / secondary special      -18858   \n",
       "\n",
       "        days_employed  \n",
       "0               -4542  \n",
       "1               -4542  \n",
       "2               -1134  \n",
       "3               -3051  \n",
       "4               -3051  \n",
       "...               ...  \n",
       "438552         365243  \n",
       "438553          -3007  \n",
       "438554           -372  \n",
       "438555         365243  \n",
       "438556          -1201  \n",
       "\n",
       "[438557 rows x 14 columns]"
      ]
     },
     "execution_count": 346,
     "metadata": {},
     "output_type": "execute_result"
    }
   ],
   "source": [
    "mydb = mysql.connector.connect(\n",
    "    host='localhost',\n",
    "    port='3306',\n",
    "    user='root',\n",
    "    password=''\n",
    ")\n",
    "cursor = mydb.cursor()\n",
    "cursor.execute('USE cc_dataset')\n",
    "ar = pd.read_sql('SELECT ID AS id, CODE_GENDER AS gender, FLAG_OWN_CAR AS car, FLAG_OWN_REALTY AS realty, NAME_HOUSING_TYPE AS housing_type, NAME_FAMILY_STATUS AS marital_status, CNT_CHILDREN AS children, CNT_FAM_MEMBERS AS family_size, AMT_INCOME_TOTAL AS annual_income, NAME_INCOME_TYPE AS income_type, OCCUPATION_TYPE AS occupation, NAME_EDUCATION_TYPE AS education_level, DAYS_BIRTH AS days_birth, DAYS_EMPLOYED AS days_employed FROM application_record', con=mydb)\n",
    "ar"
   ]
  },
  {
   "cell_type": "code",
   "execution_count": 351,
   "id": "990e9b3a",
   "metadata": {},
   "outputs": [
    {
     "name": "stdout",
     "output_type": "stream",
     "text": [
      "<class 'pandas.core.frame.DataFrame'>\n",
      "RangeIndex: 438557 entries, 0 to 438556\n",
      "Data columns (total 14 columns):\n",
      " #   Column           Non-Null Count   Dtype  \n",
      "---  ------           --------------   -----  \n",
      " 0   id               438557 non-null  int64  \n",
      " 1   gender           438557 non-null  object \n",
      " 2   car              438557 non-null  object \n",
      " 3   realty           438557 non-null  object \n",
      " 4   housing_type     438557 non-null  object \n",
      " 5   marital_status   438557 non-null  object \n",
      " 6   children         438557 non-null  int64  \n",
      " 7   family_size      438557 non-null  float64\n",
      " 8   annual_income    438557 non-null  float64\n",
      " 9   income_type      438557 non-null  object \n",
      " 10  occupation       438557 non-null  object \n",
      " 11  education_level  438557 non-null  object \n",
      " 12  days_birth       438557 non-null  int64  \n",
      " 13  days_employed    438557 non-null  int64  \n",
      "dtypes: float64(2), int64(4), object(8)\n",
      "memory usage: 46.8+ MB\n"
     ]
    }
   ],
   "source": [
    "ar.info()"
   ]
  },
  {
   "cell_type": "code",
   "execution_count": 352,
   "id": "86a76dbc",
   "metadata": {},
   "outputs": [
    {
     "data": {
      "text/html": [
       "<div>\n",
       "<style scoped>\n",
       "    .dataframe tbody tr th:only-of-type {\n",
       "        vertical-align: middle;\n",
       "    }\n",
       "\n",
       "    .dataframe tbody tr th {\n",
       "        vertical-align: top;\n",
       "    }\n",
       "\n",
       "    .dataframe thead th {\n",
       "        text-align: right;\n",
       "    }\n",
       "</style>\n",
       "<table border=\"1\" class=\"dataframe\">\n",
       "  <thead>\n",
       "    <tr style=\"text-align: right;\">\n",
       "      <th></th>\n",
       "      <th>id</th>\n",
       "      <th>children</th>\n",
       "      <th>family_size</th>\n",
       "      <th>annual_income</th>\n",
       "      <th>days_birth</th>\n",
       "      <th>days_employed</th>\n",
       "    </tr>\n",
       "  </thead>\n",
       "  <tbody>\n",
       "    <tr>\n",
       "      <th>count</th>\n",
       "      <td>4.385570e+05</td>\n",
       "      <td>438557.000000</td>\n",
       "      <td>438557.000000</td>\n",
       "      <td>4.385570e+05</td>\n",
       "      <td>438557.000000</td>\n",
       "      <td>438557.000000</td>\n",
       "    </tr>\n",
       "    <tr>\n",
       "      <th>mean</th>\n",
       "      <td>6.022176e+06</td>\n",
       "      <td>0.427390</td>\n",
       "      <td>2.194465</td>\n",
       "      <td>1.875243e+05</td>\n",
       "      <td>-15997.904649</td>\n",
       "      <td>60563.675328</td>\n",
       "    </tr>\n",
       "    <tr>\n",
       "      <th>std</th>\n",
       "      <td>5.716370e+05</td>\n",
       "      <td>0.724882</td>\n",
       "      <td>0.897207</td>\n",
       "      <td>1.100869e+05</td>\n",
       "      <td>4185.030007</td>\n",
       "      <td>138767.799647</td>\n",
       "    </tr>\n",
       "    <tr>\n",
       "      <th>min</th>\n",
       "      <td>5.008804e+06</td>\n",
       "      <td>0.000000</td>\n",
       "      <td>1.000000</td>\n",
       "      <td>2.610000e+04</td>\n",
       "      <td>-25201.000000</td>\n",
       "      <td>-17531.000000</td>\n",
       "    </tr>\n",
       "    <tr>\n",
       "      <th>25%</th>\n",
       "      <td>5.609375e+06</td>\n",
       "      <td>0.000000</td>\n",
       "      <td>2.000000</td>\n",
       "      <td>1.215000e+05</td>\n",
       "      <td>-19483.000000</td>\n",
       "      <td>-3103.000000</td>\n",
       "    </tr>\n",
       "    <tr>\n",
       "      <th>50%</th>\n",
       "      <td>6.047745e+06</td>\n",
       "      <td>0.000000</td>\n",
       "      <td>2.000000</td>\n",
       "      <td>1.607805e+05</td>\n",
       "      <td>-15630.000000</td>\n",
       "      <td>-1467.000000</td>\n",
       "    </tr>\n",
       "    <tr>\n",
       "      <th>75%</th>\n",
       "      <td>6.456971e+06</td>\n",
       "      <td>1.000000</td>\n",
       "      <td>3.000000</td>\n",
       "      <td>2.250000e+05</td>\n",
       "      <td>-12514.000000</td>\n",
       "      <td>-371.000000</td>\n",
       "    </tr>\n",
       "    <tr>\n",
       "      <th>max</th>\n",
       "      <td>7.999952e+06</td>\n",
       "      <td>19.000000</td>\n",
       "      <td>20.000000</td>\n",
       "      <td>6.750000e+06</td>\n",
       "      <td>-7489.000000</td>\n",
       "      <td>365243.000000</td>\n",
       "    </tr>\n",
       "  </tbody>\n",
       "</table>\n",
       "</div>"
      ],
      "text/plain": [
       "                 id       children    family_size  annual_income  \\\n",
       "count  4.385570e+05  438557.000000  438557.000000   4.385570e+05   \n",
       "mean   6.022176e+06       0.427390       2.194465   1.875243e+05   \n",
       "std    5.716370e+05       0.724882       0.897207   1.100869e+05   \n",
       "min    5.008804e+06       0.000000       1.000000   2.610000e+04   \n",
       "25%    5.609375e+06       0.000000       2.000000   1.215000e+05   \n",
       "50%    6.047745e+06       0.000000       2.000000   1.607805e+05   \n",
       "75%    6.456971e+06       1.000000       3.000000   2.250000e+05   \n",
       "max    7.999952e+06      19.000000      20.000000   6.750000e+06   \n",
       "\n",
       "          days_birth  days_employed  \n",
       "count  438557.000000  438557.000000  \n",
       "mean   -15997.904649   60563.675328  \n",
       "std      4185.030007  138767.799647  \n",
       "min    -25201.000000  -17531.000000  \n",
       "25%    -19483.000000   -3103.000000  \n",
       "50%    -15630.000000   -1467.000000  \n",
       "75%    -12514.000000    -371.000000  \n",
       "max     -7489.000000  365243.000000  "
      ]
     },
     "execution_count": 352,
     "metadata": {},
     "output_type": "execute_result"
    }
   ],
   "source": [
    "ar.describe()"
   ]
  },
  {
   "cell_type": "code",
   "execution_count": 214,
   "id": "7db4997e",
   "metadata": {},
   "outputs": [
    {
     "data": {
      "text/html": [
       "<div>\n",
       "<style scoped>\n",
       "    .dataframe tbody tr th:only-of-type {\n",
       "        vertical-align: middle;\n",
       "    }\n",
       "\n",
       "    .dataframe tbody tr th {\n",
       "        vertical-align: top;\n",
       "    }\n",
       "\n",
       "    .dataframe thead th {\n",
       "        text-align: right;\n",
       "    }\n",
       "</style>\n",
       "<table border=\"1\" class=\"dataframe\">\n",
       "  <thead>\n",
       "    <tr style=\"text-align: right;\">\n",
       "      <th></th>\n",
       "      <th>id</th>\n",
       "      <th>months_balance</th>\n",
       "      <th>status</th>\n",
       "    </tr>\n",
       "  </thead>\n",
       "  <tbody>\n",
       "    <tr>\n",
       "      <th>0</th>\n",
       "      <td>5001711</td>\n",
       "      <td>0</td>\n",
       "      <td>X</td>\n",
       "    </tr>\n",
       "    <tr>\n",
       "      <th>1</th>\n",
       "      <td>5001711</td>\n",
       "      <td>-1</td>\n",
       "      <td>0</td>\n",
       "    </tr>\n",
       "    <tr>\n",
       "      <th>2</th>\n",
       "      <td>5001711</td>\n",
       "      <td>-2</td>\n",
       "      <td>0</td>\n",
       "    </tr>\n",
       "    <tr>\n",
       "      <th>3</th>\n",
       "      <td>5001711</td>\n",
       "      <td>-3</td>\n",
       "      <td>0</td>\n",
       "    </tr>\n",
       "    <tr>\n",
       "      <th>4</th>\n",
       "      <td>5001712</td>\n",
       "      <td>0</td>\n",
       "      <td>C</td>\n",
       "    </tr>\n",
       "    <tr>\n",
       "      <th>...</th>\n",
       "      <td>...</td>\n",
       "      <td>...</td>\n",
       "      <td>...</td>\n",
       "    </tr>\n",
       "    <tr>\n",
       "      <th>1048570</th>\n",
       "      <td>5150487</td>\n",
       "      <td>-25</td>\n",
       "      <td>C</td>\n",
       "    </tr>\n",
       "    <tr>\n",
       "      <th>1048571</th>\n",
       "      <td>5150487</td>\n",
       "      <td>-26</td>\n",
       "      <td>C</td>\n",
       "    </tr>\n",
       "    <tr>\n",
       "      <th>1048572</th>\n",
       "      <td>5150487</td>\n",
       "      <td>-27</td>\n",
       "      <td>C</td>\n",
       "    </tr>\n",
       "    <tr>\n",
       "      <th>1048573</th>\n",
       "      <td>5150487</td>\n",
       "      <td>-28</td>\n",
       "      <td>C</td>\n",
       "    </tr>\n",
       "    <tr>\n",
       "      <th>1048574</th>\n",
       "      <td>5150487</td>\n",
       "      <td>-29</td>\n",
       "      <td>C</td>\n",
       "    </tr>\n",
       "  </tbody>\n",
       "</table>\n",
       "<p>1048575 rows × 3 columns</p>\n",
       "</div>"
      ],
      "text/plain": [
       "              id  months_balance status\n",
       "0        5001711               0      X\n",
       "1        5001711              -1      0\n",
       "2        5001711              -2      0\n",
       "3        5001711              -3      0\n",
       "4        5001712               0      C\n",
       "...          ...             ...    ...\n",
       "1048570  5150487             -25      C\n",
       "1048571  5150487             -26      C\n",
       "1048572  5150487             -27      C\n",
       "1048573  5150487             -28      C\n",
       "1048574  5150487             -29      C\n",
       "\n",
       "[1048575 rows x 3 columns]"
      ]
     },
     "execution_count": 214,
     "metadata": {},
     "output_type": "execute_result"
    }
   ],
   "source": [
    "mydb = mysql.connector.connect(\n",
    "    host='localhost',\n",
    "    port='3306',\n",
    "    user='root',\n",
    "    password=''\n",
    ")\n",
    "cursor = mydb.cursor()\n",
    "cursor.execute('USE cc_dataset')\n",
    "cr = pd.read_sql('SELECT ID AS id, MONTHS_BALANCE AS months_balance, STATUS AS status FROM credit_record', con=mydb)\n",
    "cr"
   ]
  },
  {
   "cell_type": "code",
   "execution_count": null,
   "id": "a9582b11",
   "metadata": {},
   "outputs": [],
   "source": [
    "#Statuso reikšmės:\n",
    "#'C' reiškia 'buvo sumokėta laiku', \n",
    "#'X' reiškia 'kredito nebuvo šį mėnesį'\n",
    "#'0' reiškia 'klientas pavėlavo sumokėti 0-29 dd.'\n",
    "#'1' reiškia 'klientas pavėlavo sumokėti 30-59 dd.'\n",
    "#'2' reiškia 'klientas pavėlavo sumokėti 60-89 dd.'\n",
    "#'3' reiškia 'klientas pavėlavo sumokėti 90-119 dd.'\n",
    "#'4' reiškia 'klientas pavėlavo sumokėti 120-149 dd.'\n",
    "#'5' reiškia 'Pradelstos ar beviltiškos skolos, klientas pavėlavo sumokėti >150 dd.'"
   ]
  },
  {
   "cell_type": "code",
   "execution_count": 215,
   "id": "c2439bff",
   "metadata": {},
   "outputs": [
    {
     "name": "stdout",
     "output_type": "stream",
     "text": [
      "<class 'pandas.core.frame.DataFrame'>\n",
      "RangeIndex: 1048575 entries, 0 to 1048574\n",
      "Data columns (total 3 columns):\n",
      " #   Column          Non-Null Count    Dtype \n",
      "---  ------          --------------    ----- \n",
      " 0   id              1048575 non-null  int64 \n",
      " 1   months_balance  1048575 non-null  int64 \n",
      " 2   status          1048575 non-null  object\n",
      "dtypes: int64(2), object(1)\n",
      "memory usage: 24.0+ MB\n"
     ]
    }
   ],
   "source": [
    "cr.info()"
   ]
  },
  {
   "cell_type": "code",
   "execution_count": 353,
   "id": "f40add25",
   "metadata": {},
   "outputs": [
    {
     "data": {
      "text/plain": [
       "438510"
      ]
     },
     "execution_count": 353,
     "metadata": {},
     "output_type": "execute_result"
    }
   ],
   "source": [
    "#Paskaičiuojame unikalus klientus iš lentelės 'ar'\n",
    "len(ar['id'].unique())"
   ]
  },
  {
   "cell_type": "code",
   "execution_count": 218,
   "id": "2a5dfdd4",
   "metadata": {},
   "outputs": [
    {
     "data": {
      "text/plain": [
       "45985"
      ]
     },
     "execution_count": 218,
     "metadata": {},
     "output_type": "execute_result"
    }
   ],
   "source": [
    "#Paskaičiuojame unikalus klientus iš lentelės 'cr'\n",
    "len(cr['id'].unique())"
   ]
  },
  {
   "cell_type": "markdown",
   "id": "6dead813",
   "metadata": {},
   "source": [
    "## Kredito kortelių naudotojų portretas"
   ]
  },
  {
   "cell_type": "code",
   "execution_count": 362,
   "id": "e884421e",
   "metadata": {},
   "outputs": [
    {
     "data": {
      "text/html": [
       "<div>\n",
       "<style scoped>\n",
       "    .dataframe tbody tr th:only-of-type {\n",
       "        vertical-align: middle;\n",
       "    }\n",
       "\n",
       "    .dataframe tbody tr th {\n",
       "        vertical-align: top;\n",
       "    }\n",
       "\n",
       "    .dataframe thead th {\n",
       "        text-align: right;\n",
       "    }\n",
       "</style>\n",
       "<table border=\"1\" class=\"dataframe\">\n",
       "  <thead>\n",
       "    <tr style=\"text-align: right;\">\n",
       "      <th></th>\n",
       "      <th>id</th>\n",
       "      <th>gender</th>\n",
       "      <th>car</th>\n",
       "      <th>realty</th>\n",
       "      <th>housing_type</th>\n",
       "      <th>marital_status</th>\n",
       "      <th>children</th>\n",
       "      <th>family_size</th>\n",
       "      <th>annual_income</th>\n",
       "      <th>income_type</th>\n",
       "      <th>occupation</th>\n",
       "      <th>education_level</th>\n",
       "      <th>days_birth</th>\n",
       "      <th>days_employed</th>\n",
       "    </tr>\n",
       "  </thead>\n",
       "  <tbody>\n",
       "    <tr>\n",
       "      <th>0</th>\n",
       "      <td>5008804</td>\n",
       "      <td>M</td>\n",
       "      <td>Y</td>\n",
       "      <td>Y</td>\n",
       "      <td>Rented apartment</td>\n",
       "      <td>Civil marriage</td>\n",
       "      <td>0</td>\n",
       "      <td>2.0</td>\n",
       "      <td>427500.0</td>\n",
       "      <td>Working</td>\n",
       "      <td></td>\n",
       "      <td>Higher education</td>\n",
       "      <td>-12005</td>\n",
       "      <td>-4542</td>\n",
       "    </tr>\n",
       "    <tr>\n",
       "      <th>1</th>\n",
       "      <td>5008805</td>\n",
       "      <td>M</td>\n",
       "      <td>Y</td>\n",
       "      <td>Y</td>\n",
       "      <td>Rented apartment</td>\n",
       "      <td>Civil marriage</td>\n",
       "      <td>0</td>\n",
       "      <td>2.0</td>\n",
       "      <td>427500.0</td>\n",
       "      <td>Working</td>\n",
       "      <td></td>\n",
       "      <td>Higher education</td>\n",
       "      <td>-12005</td>\n",
       "      <td>-4542</td>\n",
       "    </tr>\n",
       "    <tr>\n",
       "      <th>2</th>\n",
       "      <td>5008806</td>\n",
       "      <td>M</td>\n",
       "      <td>Y</td>\n",
       "      <td>Y</td>\n",
       "      <td>House / apartment</td>\n",
       "      <td>Married</td>\n",
       "      <td>0</td>\n",
       "      <td>2.0</td>\n",
       "      <td>112500.0</td>\n",
       "      <td>Working</td>\n",
       "      <td>Security staff</td>\n",
       "      <td>Secondary / secondary special</td>\n",
       "      <td>-21474</td>\n",
       "      <td>-1134</td>\n",
       "    </tr>\n",
       "    <tr>\n",
       "      <th>3</th>\n",
       "      <td>5008808</td>\n",
       "      <td>F</td>\n",
       "      <td>N</td>\n",
       "      <td>Y</td>\n",
       "      <td>House / apartment</td>\n",
       "      <td>Single / not married</td>\n",
       "      <td>0</td>\n",
       "      <td>1.0</td>\n",
       "      <td>270000.0</td>\n",
       "      <td>Commercial associate</td>\n",
       "      <td>Sales staff</td>\n",
       "      <td>Secondary / secondary special</td>\n",
       "      <td>-19110</td>\n",
       "      <td>-3051</td>\n",
       "    </tr>\n",
       "    <tr>\n",
       "      <th>4</th>\n",
       "      <td>5008809</td>\n",
       "      <td>F</td>\n",
       "      <td>N</td>\n",
       "      <td>Y</td>\n",
       "      <td>House / apartment</td>\n",
       "      <td>Single / not married</td>\n",
       "      <td>0</td>\n",
       "      <td>1.0</td>\n",
       "      <td>270000.0</td>\n",
       "      <td>Commercial associate</td>\n",
       "      <td>Sales staff</td>\n",
       "      <td>Secondary / secondary special</td>\n",
       "      <td>-19110</td>\n",
       "      <td>-3051</td>\n",
       "    </tr>\n",
       "    <tr>\n",
       "      <th>...</th>\n",
       "      <td>...</td>\n",
       "      <td>...</td>\n",
       "      <td>...</td>\n",
       "      <td>...</td>\n",
       "      <td>...</td>\n",
       "      <td>...</td>\n",
       "      <td>...</td>\n",
       "      <td>...</td>\n",
       "      <td>...</td>\n",
       "      <td>...</td>\n",
       "      <td>...</td>\n",
       "      <td>...</td>\n",
       "      <td>...</td>\n",
       "      <td>...</td>\n",
       "    </tr>\n",
       "    <tr>\n",
       "      <th>438552</th>\n",
       "      <td>6840104</td>\n",
       "      <td>M</td>\n",
       "      <td>N</td>\n",
       "      <td>Y</td>\n",
       "      <td>House / apartment</td>\n",
       "      <td>Separated</td>\n",
       "      <td>0</td>\n",
       "      <td>1.0</td>\n",
       "      <td>135000.0</td>\n",
       "      <td>Pensioner</td>\n",
       "      <td></td>\n",
       "      <td>Secondary / secondary special</td>\n",
       "      <td>-22717</td>\n",
       "      <td>365243</td>\n",
       "    </tr>\n",
       "    <tr>\n",
       "      <th>438553</th>\n",
       "      <td>6840222</td>\n",
       "      <td>F</td>\n",
       "      <td>N</td>\n",
       "      <td>N</td>\n",
       "      <td>House / apartment</td>\n",
       "      <td>Single / not married</td>\n",
       "      <td>0</td>\n",
       "      <td>1.0</td>\n",
       "      <td>103500.0</td>\n",
       "      <td>Working</td>\n",
       "      <td>Laborers</td>\n",
       "      <td>Secondary / secondary special</td>\n",
       "      <td>-15939</td>\n",
       "      <td>-3007</td>\n",
       "    </tr>\n",
       "    <tr>\n",
       "      <th>438554</th>\n",
       "      <td>6841878</td>\n",
       "      <td>F</td>\n",
       "      <td>N</td>\n",
       "      <td>N</td>\n",
       "      <td>With parents</td>\n",
       "      <td>Single / not married</td>\n",
       "      <td>0</td>\n",
       "      <td>1.0</td>\n",
       "      <td>54000.0</td>\n",
       "      <td>Commercial associate</td>\n",
       "      <td>Sales staff</td>\n",
       "      <td>Higher education</td>\n",
       "      <td>-8169</td>\n",
       "      <td>-372</td>\n",
       "    </tr>\n",
       "    <tr>\n",
       "      <th>438555</th>\n",
       "      <td>6842765</td>\n",
       "      <td>F</td>\n",
       "      <td>N</td>\n",
       "      <td>Y</td>\n",
       "      <td>House / apartment</td>\n",
       "      <td>Married</td>\n",
       "      <td>0</td>\n",
       "      <td>2.0</td>\n",
       "      <td>72000.0</td>\n",
       "      <td>Pensioner</td>\n",
       "      <td></td>\n",
       "      <td>Secondary / secondary special</td>\n",
       "      <td>-21673</td>\n",
       "      <td>365243</td>\n",
       "    </tr>\n",
       "    <tr>\n",
       "      <th>438556</th>\n",
       "      <td>6842885</td>\n",
       "      <td>F</td>\n",
       "      <td>N</td>\n",
       "      <td>Y</td>\n",
       "      <td>House / apartment</td>\n",
       "      <td>Married</td>\n",
       "      <td>0</td>\n",
       "      <td>2.0</td>\n",
       "      <td>121500.0</td>\n",
       "      <td>Working</td>\n",
       "      <td>Sales staff</td>\n",
       "      <td>Secondary / secondary special</td>\n",
       "      <td>-18858</td>\n",
       "      <td>-1201</td>\n",
       "    </tr>\n",
       "  </tbody>\n",
       "</table>\n",
       "<p>438557 rows × 14 columns</p>\n",
       "</div>"
      ],
      "text/plain": [
       "             id gender car realty       housing_type        marital_status  \\\n",
       "0       5008804      M   Y      Y   Rented apartment        Civil marriage   \n",
       "1       5008805      M   Y      Y   Rented apartment        Civil marriage   \n",
       "2       5008806      M   Y      Y  House / apartment               Married   \n",
       "3       5008808      F   N      Y  House / apartment  Single / not married   \n",
       "4       5008809      F   N      Y  House / apartment  Single / not married   \n",
       "...         ...    ...  ..    ...                ...                   ...   \n",
       "438552  6840104      M   N      Y  House / apartment             Separated   \n",
       "438553  6840222      F   N      N  House / apartment  Single / not married   \n",
       "438554  6841878      F   N      N       With parents  Single / not married   \n",
       "438555  6842765      F   N      Y  House / apartment               Married   \n",
       "438556  6842885      F   N      Y  House / apartment               Married   \n",
       "\n",
       "        children  family_size  annual_income           income_type  \\\n",
       "0              0          2.0       427500.0               Working   \n",
       "1              0          2.0       427500.0               Working   \n",
       "2              0          2.0       112500.0               Working   \n",
       "3              0          1.0       270000.0  Commercial associate   \n",
       "4              0          1.0       270000.0  Commercial associate   \n",
       "...          ...          ...            ...                   ...   \n",
       "438552         0          1.0       135000.0             Pensioner   \n",
       "438553         0          1.0       103500.0               Working   \n",
       "438554         0          1.0        54000.0  Commercial associate   \n",
       "438555         0          2.0        72000.0             Pensioner   \n",
       "438556         0          2.0       121500.0               Working   \n",
       "\n",
       "            occupation                education_level  days_birth  \\\n",
       "0                                    Higher education      -12005   \n",
       "1                                    Higher education      -12005   \n",
       "2       Security staff  Secondary / secondary special      -21474   \n",
       "3          Sales staff  Secondary / secondary special      -19110   \n",
       "4          Sales staff  Secondary / secondary special      -19110   \n",
       "...                ...                            ...         ...   \n",
       "438552                  Secondary / secondary special      -22717   \n",
       "438553        Laborers  Secondary / secondary special      -15939   \n",
       "438554     Sales staff               Higher education       -8169   \n",
       "438555                  Secondary / secondary special      -21673   \n",
       "438556     Sales staff  Secondary / secondary special      -18858   \n",
       "\n",
       "        days_employed  \n",
       "0               -4542  \n",
       "1               -4542  \n",
       "2               -1134  \n",
       "3               -3051  \n",
       "4               -3051  \n",
       "...               ...  \n",
       "438552         365243  \n",
       "438553          -3007  \n",
       "438554           -372  \n",
       "438555         365243  \n",
       "438556          -1201  \n",
       "\n",
       "[438557 rows x 14 columns]"
      ]
     },
     "execution_count": 362,
     "metadata": {},
     "output_type": "execute_result"
    }
   ],
   "source": [
    "# Paimsime lentelę 'ar' su 438510 unikalių kredito kortelių naudotojų ir pavadinsime ją 'arp'\n",
    "arp = ar\n",
    "arp"
   ]
  },
  {
   "cell_type": "markdown",
   "id": "5e1bdf75",
   "metadata": {},
   "source": [
    "### Pagal lytį"
   ]
  },
  {
   "cell_type": "code",
   "execution_count": 363,
   "id": "b0d6cb1c",
   "metadata": {},
   "outputs": [
    {
     "data": {
      "text/plain": [
       "F    294440\n",
       "M    144117\n",
       "Name: gender, dtype: int64"
      ]
     },
     "execution_count": 363,
     "metadata": {},
     "output_type": "execute_result"
    }
   ],
   "source": [
    "df17 = arp['gender'].value_counts()\n",
    "df17"
   ]
  },
  {
   "cell_type": "code",
   "execution_count": 417,
   "id": "efddf9d5",
   "metadata": {},
   "outputs": [
    {
     "data": {
      "text/plain": [
       "<AxesSubplot:title={'center':'Naudotojai pagal lytį'}>"
      ]
     },
     "execution_count": 417,
     "metadata": {},
     "output_type": "execute_result"
    },
    {
     "data": {
      "image/png": "[encoded data removed]",
      "text/plain": [
       "<Figure size 504x504 with 1 Axes>"
      ]
     },
     "metadata": {},
     "output_type": "display_data"
    }
   ],
   "source": [
    "df17.plot.pie(ylabel='', title='Naudotojai pagal lytį', autopct='%1.0f%%', figsize=(7, 7))"
   ]
  },
  {
   "cell_type": "code",
   "execution_count": null,
   "id": "0d37b6e1",
   "metadata": {},
   "outputs": [],
   "source": [
    "# Daugumą kredito kortelių naudotojų sudaro moterys (67%)"
   ]
  },
  {
   "cell_type": "markdown",
   "id": "247413e0",
   "metadata": {},
   "source": [
    "### Pagal amžių"
   ]
  },
  {
   "cell_type": "code",
   "execution_count": 365,
   "id": "57d83fa2",
   "metadata": {},
   "outputs": [
    {
     "data": {
      "text/plain": [
       "0         33.0\n",
       "1         33.0\n",
       "2         59.0\n",
       "3         52.0\n",
       "4         52.0\n",
       "          ... \n",
       "438552    62.0\n",
       "438553    44.0\n",
       "438554    22.0\n",
       "438555    59.0\n",
       "438556    52.0\n",
       "Name: days_birth, Length: 438557, dtype: float64"
      ]
     },
     "execution_count": 365,
     "metadata": {},
     "output_type": "execute_result"
    }
   ],
   "source": [
    "#Amžius priskiriame amžiaus intervalams(20: nuo 20 iki 30, 30:nuo 30 iki 40,...)\n",
    "arp['days_birth']=round(arp['days_birth']/(-365))\n",
    "arp['days_birth']"
   ]
  },
  {
   "cell_type": "code",
   "execution_count": 366,
   "id": "6c47db84",
   "metadata": {},
   "outputs": [],
   "source": [
    "arp.rename(columns={'days_birth': 'age'}, inplace=True)"
   ]
  },
  {
   "cell_type": "code",
   "execution_count": 372,
   "id": "1a805aeb",
   "metadata": {},
   "outputs": [
    {
     "data": {
      "text/html": [
       "<div>\n",
       "<style scoped>\n",
       "    .dataframe tbody tr th:only-of-type {\n",
       "        vertical-align: middle;\n",
       "    }\n",
       "\n",
       "    .dataframe tbody tr th {\n",
       "        vertical-align: top;\n",
       "    }\n",
       "\n",
       "    .dataframe thead th {\n",
       "        text-align: right;\n",
       "    }\n",
       "</style>\n",
       "<table border=\"1\" class=\"dataframe\">\n",
       "  <thead>\n",
       "    <tr style=\"text-align: right;\">\n",
       "      <th></th>\n",
       "      <th>id</th>\n",
       "      <th>gender</th>\n",
       "      <th>car</th>\n",
       "      <th>realty</th>\n",
       "      <th>housing_type</th>\n",
       "      <th>marital_status</th>\n",
       "      <th>children</th>\n",
       "      <th>family_size</th>\n",
       "      <th>annual_income</th>\n",
       "      <th>income_type</th>\n",
       "      <th>occupation</th>\n",
       "      <th>education_level</th>\n",
       "      <th>age</th>\n",
       "      <th>days_employed</th>\n",
       "    </tr>\n",
       "  </thead>\n",
       "  <tbody>\n",
       "    <tr>\n",
       "      <th>0</th>\n",
       "      <td>5008804</td>\n",
       "      <td>M</td>\n",
       "      <td>Y</td>\n",
       "      <td>Y</td>\n",
       "      <td>Rented apartment</td>\n",
       "      <td>Civil marriage</td>\n",
       "      <td>0</td>\n",
       "      <td>2.0</td>\n",
       "      <td>427500.0</td>\n",
       "      <td>Working</td>\n",
       "      <td></td>\n",
       "      <td>Higher education</td>\n",
       "      <td>30.0</td>\n",
       "      <td>-4542</td>\n",
       "    </tr>\n",
       "    <tr>\n",
       "      <th>1</th>\n",
       "      <td>5008805</td>\n",
       "      <td>M</td>\n",
       "      <td>Y</td>\n",
       "      <td>Y</td>\n",
       "      <td>Rented apartment</td>\n",
       "      <td>Civil marriage</td>\n",
       "      <td>0</td>\n",
       "      <td>2.0</td>\n",
       "      <td>427500.0</td>\n",
       "      <td>Working</td>\n",
       "      <td></td>\n",
       "      <td>Higher education</td>\n",
       "      <td>30.0</td>\n",
       "      <td>-4542</td>\n",
       "    </tr>\n",
       "    <tr>\n",
       "      <th>2</th>\n",
       "      <td>5008806</td>\n",
       "      <td>M</td>\n",
       "      <td>Y</td>\n",
       "      <td>Y</td>\n",
       "      <td>House / apartment</td>\n",
       "      <td>Married</td>\n",
       "      <td>0</td>\n",
       "      <td>2.0</td>\n",
       "      <td>112500.0</td>\n",
       "      <td>Working</td>\n",
       "      <td>Security staff</td>\n",
       "      <td>Secondary / secondary special</td>\n",
       "      <td>50.0</td>\n",
       "      <td>-1134</td>\n",
       "    </tr>\n",
       "  </tbody>\n",
       "</table>\n",
       "</div>"
      ],
      "text/plain": [
       "        id gender car realty       housing_type  marital_status  children  \\\n",
       "0  5008804      M   Y      Y   Rented apartment  Civil marriage         0   \n",
       "1  5008805      M   Y      Y   Rented apartment  Civil marriage         0   \n",
       "2  5008806      M   Y      Y  House / apartment         Married         0   \n",
       "\n",
       "   family_size  annual_income income_type      occupation  \\\n",
       "0          2.0       427500.0     Working                   \n",
       "1          2.0       427500.0     Working                   \n",
       "2          2.0       112500.0     Working  Security staff   \n",
       "\n",
       "                 education_level   age  days_employed  \n",
       "0               Higher education  30.0          -4542  \n",
       "1               Higher education  30.0          -4542  \n",
       "2  Secondary / secondary special  50.0          -1134  "
      ]
     },
     "execution_count": 372,
     "metadata": {},
     "output_type": "execute_result"
    }
   ],
   "source": [
    "arp['age']=(arp['age']//10)*10\n",
    "arp.head(3)"
   ]
  },
  {
   "cell_type": "code",
   "execution_count": 373,
   "id": "8f9dfec1",
   "metadata": {},
   "outputs": [
    {
     "data": {
      "text/plain": [
       "60.0     51017\n",
       "20.0     51815\n",
       "50.0     96496\n",
       "40.0    114957\n",
       "30.0    124272\n",
       "Name: age, dtype: int64"
      ]
     },
     "execution_count": 373,
     "metadata": {},
     "output_type": "execute_result"
    }
   ],
   "source": [
    "df18 = arp['age'].value_counts().sort_values()\n",
    "df18"
   ]
  },
  {
   "cell_type": "code",
   "execution_count": 416,
   "id": "0c67bca0",
   "metadata": {},
   "outputs": [
    {
     "data": {
      "text/plain": [
       "<AxesSubplot:title={'center':'Naudotojai pagal amžių'}>"
      ]
     },
     "execution_count": 416,
     "metadata": {},
     "output_type": "execute_result"
    },
    {
     "data": {
      "image/png": "[encoded data removed]",
      "text/plain": [
       "<Figure size 504x504 with 1 Axes>"
      ]
     },
     "metadata": {},
     "output_type": "display_data"
    }
   ],
   "source": [
    "df18.plot.pie(ylabel='', title='Naudotojai pagal amžių', autopct='%1.0f%%', figsize=(7, 7))"
   ]
  },
  {
   "cell_type": "code",
   "execution_count": null,
   "id": "7438bd3c",
   "metadata": {},
   "outputs": [],
   "source": [
    "# Pagrindiniai kredito kortelių naudotojai - žmonės nuo 30 iki 60 metų (76%)"
   ]
  },
  {
   "cell_type": "markdown",
   "id": "64b57495",
   "metadata": {},
   "source": [
    "### Pagal išsilavinimą"
   ]
  },
  {
   "cell_type": "code",
   "execution_count": 378,
   "id": "f6c87dcc",
   "metadata": {},
   "outputs": [
    {
     "data": {
      "text/plain": [
       "Secondary / secondary special    301821\n",
       "Higher education                 117522\n",
       "Incomplete higher                 14851\n",
       "Lower secondary                    4051\n",
       "Academic degree                     312\n",
       "Name: education_level, dtype: int64"
      ]
     },
     "execution_count": 378,
     "metadata": {},
     "output_type": "execute_result"
    }
   ],
   "source": [
    "df19 = arp['education_level'].value_counts()\n",
    "df19"
   ]
  },
  {
   "cell_type": "code",
   "execution_count": 543,
   "id": "bb0d859b",
   "metadata": {},
   "outputs": [
    {
     "data": {
      "text/plain": [
       "<AxesSubplot:title={'center':'Naudotojai pagal išsilavinimą'}>"
      ]
     },
     "execution_count": 543,
     "metadata": {},
     "output_type": "execute_result"
    },
    {
     "data": {
      "image/png": "[encoded data removed]",
      "text/plain": [
       "<Figure size 648x648 with 1 Axes>"
      ]
     },
     "metadata": {},
     "output_type": "display_data"
    }
   ],
   "source": [
    "df19.plot.pie(ylabel='', title='Naudotojai pagal išsilavinimą', autopct='%1.0f%%', figsize=(9, 9))"
   ]
  },
  {
   "cell_type": "code",
   "execution_count": 390,
   "id": "b04e8bd3",
   "metadata": {},
   "outputs": [],
   "source": [
    "# Daugumą kredito kortelių naudotojų sudaro žmonės turintys vidurinį išsilavinimą (69%)"
   ]
  },
  {
   "cell_type": "markdown",
   "id": "61b5d2c9",
   "metadata": {},
   "source": [
    "### Pagal pajamų šaltinį"
   ]
  },
  {
   "cell_type": "code",
   "execution_count": 398,
   "id": "9900954b",
   "metadata": {},
   "outputs": [
    {
     "data": {
      "text/plain": [
       "Working                 226104\n",
       "Commercial associate    100757\n",
       "Pensioner                75493\n",
       "State servant            36186\n",
       "Student                     17\n",
       "Name: income_type, dtype: int64"
      ]
     },
     "execution_count": 398,
     "metadata": {},
     "output_type": "execute_result"
    }
   ],
   "source": [
    "df20 = arp['income_type'].value_counts()\n",
    "df20"
   ]
  },
  {
   "cell_type": "code",
   "execution_count": 413,
   "id": "54c99665",
   "metadata": {},
   "outputs": [
    {
     "data": {
      "text/plain": [
       "<AxesSubplot:title={'center':'Naudotojai pagal pajamų šaltinį'}>"
      ]
     },
     "execution_count": 413,
     "metadata": {},
     "output_type": "execute_result"
    },
    {
     "data": {
      "image/png": "[encoded data removed]",
      "text/plain": [
       "<Figure size 504x504 with 1 Axes>"
      ]
     },
     "metadata": {},
     "output_type": "display_data"
    }
   ],
   "source": [
    "df20.plot.pie(ylabel='', title='Naudotojai pagal pajamų šaltinį', autopct='%1.0f%%', figsize=(7, 7))"
   ]
  },
  {
   "cell_type": "code",
   "execution_count": 402,
   "id": "3fb930ad",
   "metadata": {},
   "outputs": [],
   "source": [
    "# Daugumą kredito kortelių naudotojų sudaro dirbantys žmonės (52%)"
   ]
  },
  {
   "cell_type": "markdown",
   "id": "2aca03ae",
   "metadata": {},
   "source": [
    "### Pagal šeiminę padėtį"
   ]
  },
  {
   "cell_type": "code",
   "execution_count": 418,
   "id": "4e255bc8",
   "metadata": {},
   "outputs": [
    {
     "data": {
      "text/plain": [
       "Married                 299828\n",
       "Single / not married     55271\n",
       "Civil marriage           36532\n",
       "Separated                27251\n",
       "Widow                    19675\n",
       "Name: marital_status, dtype: int64"
      ]
     },
     "execution_count": 418,
     "metadata": {},
     "output_type": "execute_result"
    }
   ],
   "source": [
    "df21 = arp['marital_status'].value_counts()\n",
    "df21"
   ]
  },
  {
   "cell_type": "code",
   "execution_count": 419,
   "id": "d9bb707b",
   "metadata": {},
   "outputs": [
    {
     "data": {
      "text/plain": [
       "<AxesSubplot:title={'center':'Naudotojai pagal šeiminę padėtį'}>"
      ]
     },
     "execution_count": 419,
     "metadata": {},
     "output_type": "execute_result"
    },
    {
     "data": {
      "image/png": "[encoded data removed]",
      "text/plain": [
       "<Figure size 504x504 with 1 Axes>"
      ]
     },
     "metadata": {},
     "output_type": "display_data"
    }
   ],
   "source": [
    "df21.plot.pie(ylabel='', title='Naudotojai pagal šeiminę padėtį', autopct='%1.0f%%', figsize=(7, 7))"
   ]
  },
  {
   "cell_type": "code",
   "execution_count": null,
   "id": "568d6b89",
   "metadata": {},
   "outputs": [],
   "source": [
    "# Daugumą kredito kortelių naudotojų sudaro vedę žmonės (68%)"
   ]
  },
  {
   "cell_type": "markdown",
   "id": "941f4d65",
   "metadata": {},
   "source": [
    "### Pagal šeimos dydį"
   ]
  },
  {
   "cell_type": "code",
   "execution_count": 420,
   "id": "a5e14783",
   "metadata": {},
   "outputs": [
    {
     "data": {
      "text/plain": [
       "2.0     233891\n",
       "1.0      84492\n",
       "3.0      77128\n",
       "4.0      37356\n",
       "5.0       5081\n",
       "6.0        459\n",
       "7.0        124\n",
       "9.0          9\n",
       "11.0         5\n",
       "8.0          4\n",
       "14.0         4\n",
       "15.0         3\n",
       "20.0         1\n",
       "Name: family_size, dtype: int64"
      ]
     },
     "execution_count": 420,
     "metadata": {},
     "output_type": "execute_result"
    }
   ],
   "source": [
    "df22 = arp['family_size'].value_counts()\n",
    "df22"
   ]
  },
  {
   "cell_type": "code",
   "execution_count": 424,
   "id": "cfd6f5eb",
   "metadata": {},
   "outputs": [
    {
     "data": {
      "text/plain": [
       "<AxesSubplot:title={'center':'Naudotojai pagal šeimos dydį'}>"
      ]
     },
     "execution_count": 424,
     "metadata": {},
     "output_type": "execute_result"
    },
    {
     "data": {
      "image/png": "[encoded data removed]",
      "text/plain": [
       "<Figure size 504x504 with 1 Axes>"
      ]
     },
     "metadata": {},
     "output_type": "display_data"
    }
   ],
   "source": [
    "df22.plot.pie(ylabel='', title='Naudotojai pagal šeimos dydį', autopct='%1.0f%%', figsize=(7, 7))"
   ]
  },
  {
   "cell_type": "code",
   "execution_count": null,
   "id": "c0f4b079",
   "metadata": {},
   "outputs": [],
   "source": [
    "# Daugumą kredito kortelių naudotojų sudaro žmonės turintys dviejų žmonių šeimą (53%)"
   ]
  },
  {
   "cell_type": "markdown",
   "id": "b0631d42",
   "metadata": {},
   "source": [
    "### Pagal vaikų skaičių"
   ]
  },
  {
   "cell_type": "code",
   "execution_count": 425,
   "id": "83215345",
   "metadata": {},
   "outputs": [
    {
     "data": {
      "text/plain": [
       "0     304071\n",
       "1      88527\n",
       "2      39884\n",
       "3       5430\n",
       "4        486\n",
       "5        133\n",
       "7          9\n",
       "9          5\n",
       "6          4\n",
       "12         4\n",
       "14         3\n",
       "19         1\n",
       "Name: children, dtype: int64"
      ]
     },
     "execution_count": 425,
     "metadata": {},
     "output_type": "execute_result"
    }
   ],
   "source": [
    "df23 = arp['children'].value_counts()\n",
    "df23"
   ]
  },
  {
   "cell_type": "code",
   "execution_count": 426,
   "id": "6dba6f32",
   "metadata": {},
   "outputs": [
    {
     "data": {
      "text/plain": [
       "<AxesSubplot:title={'center':'Naudotojai pagal vaikų skaičių'}>"
      ]
     },
     "execution_count": 426,
     "metadata": {},
     "output_type": "execute_result"
    },
    {
     "data": {
      "image/png": "[encoded data removed]",
      "text/plain": [
       "<Figure size 504x504 with 1 Axes>"
      ]
     },
     "metadata": {},
     "output_type": "display_data"
    }
   ],
   "source": [
    "df23.plot.pie(ylabel='', title='Naudotojai pagal vaikų skaičių', autopct='%1.0f%%', figsize=(7, 7))"
   ]
  },
  {
   "cell_type": "code",
   "execution_count": null,
   "id": "16c165d1",
   "metadata": {},
   "outputs": [],
   "source": [
    "# Daugumą kredito kortelių naudotojų sudaro žmonės neturintys vaikų (69%)"
   ]
  },
  {
   "cell_type": "markdown",
   "id": "63342477",
   "metadata": {},
   "source": [
    "### Pagal automobilio turėjimą"
   ]
  },
  {
   "cell_type": "code",
   "execution_count": 427,
   "id": "b4f32387",
   "metadata": {},
   "outputs": [
    {
     "data": {
      "text/plain": [
       "N    275459\n",
       "Y    163098\n",
       "Name: car, dtype: int64"
      ]
     },
     "execution_count": 427,
     "metadata": {},
     "output_type": "execute_result"
    }
   ],
   "source": [
    "df24 = arp['car'].value_counts()\n",
    "df24"
   ]
  },
  {
   "cell_type": "code",
   "execution_count": 429,
   "id": "0dad584d",
   "metadata": {},
   "outputs": [
    {
     "data": {
      "text/plain": [
       "<AxesSubplot:title={'center':'Naudotojai pagal automobilio turėjimą'}>"
      ]
     },
     "execution_count": 429,
     "metadata": {},
     "output_type": "execute_result"
    },
    {
     "data": {
      "image/png": "[encoded data removed]",
      "text/plain": [
       "<Figure size 504x504 with 1 Axes>"
      ]
     },
     "metadata": {},
     "output_type": "display_data"
    }
   ],
   "source": [
    "df24.plot.pie(ylabel='', title='Naudotojai pagal automobilio turėjimą', autopct='%1.0f%%', figsize=(7, 7))"
   ]
  },
  {
   "cell_type": "code",
   "execution_count": null,
   "id": "c2d53ce1",
   "metadata": {},
   "outputs": [],
   "source": [
    "# Daugumą kredito kortelių naudotojų sudaro žmonės neturintys automobilio (63%)"
   ]
  },
  {
   "cell_type": "markdown",
   "id": "edf945e8",
   "metadata": {},
   "source": [
    "### Pagal nekilnojamojo turto turėjimą"
   ]
  },
  {
   "cell_type": "code",
   "execution_count": 430,
   "id": "a6c02328",
   "metadata": {},
   "outputs": [
    {
     "data": {
      "text/plain": [
       "Y    304074\n",
       "N    134483\n",
       "Name: realty, dtype: int64"
      ]
     },
     "execution_count": 430,
     "metadata": {},
     "output_type": "execute_result"
    }
   ],
   "source": [
    "df25 = arp['realty'].value_counts()\n",
    "df25"
   ]
  },
  {
   "cell_type": "code",
   "execution_count": 431,
   "id": "69790108",
   "metadata": {},
   "outputs": [
    {
     "data": {
      "text/plain": [
       "<AxesSubplot:title={'center':'Naudotojai pagal nekilnojamojo turto turėjimą'}>"
      ]
     },
     "execution_count": 431,
     "metadata": {},
     "output_type": "execute_result"
    },
    {
     "data": {
      "image/png": "[encoded data removed]",
      "text/plain": [
       "<Figure size 504x504 with 1 Axes>"
      ]
     },
     "metadata": {},
     "output_type": "display_data"
    }
   ],
   "source": [
    "df25.plot.pie(ylabel='', title='Naudotojai pagal nekilnojamojo turto turėjimą', autopct='%1.0f%%', figsize=(7, 7))"
   ]
  },
  {
   "cell_type": "code",
   "execution_count": null,
   "id": "8d7bf590",
   "metadata": {},
   "outputs": [],
   "source": [
    "# Daugumą kredito kortelių naudotojų sudaro žmonės turintys nekilnojamąjį turtą (69%)"
   ]
  },
  {
   "cell_type": "markdown",
   "id": "82dbac66",
   "metadata": {},
   "source": [
    "### Pagal būsto tipą"
   ]
  },
  {
   "cell_type": "code",
   "execution_count": 432,
   "id": "8660026e",
   "metadata": {},
   "outputs": [
    {
     "data": {
      "text/plain": [
       "House / apartment      393831\n",
       "With parents            19077\n",
       "Municipal apartment     14214\n",
       "Rented apartment         5974\n",
       "Office apartment         3922\n",
       "Co-op apartment          1539\n",
       "Name: housing_type, dtype: int64"
      ]
     },
     "execution_count": 432,
     "metadata": {},
     "output_type": "execute_result"
    }
   ],
   "source": [
    "df26 = arp['housing_type'].value_counts()\n",
    "df26"
   ]
  },
  {
   "cell_type": "code",
   "execution_count": 433,
   "id": "79f7ac9f",
   "metadata": {},
   "outputs": [
    {
     "data": {
      "text/plain": [
       "<AxesSubplot:title={'center':'Naudotojai pagal būsto tipą'}>"
      ]
     },
     "execution_count": 433,
     "metadata": {},
     "output_type": "execute_result"
    },
    {
     "data": {
      "image/png": "[encoded data removed]",
      "text/plain": [
       "<Figure size 504x504 with 1 Axes>"
      ]
     },
     "metadata": {},
     "output_type": "display_data"
    }
   ],
   "source": [
    "df26.plot.pie(ylabel='', title='Naudotojai pagal būsto tipą', autopct='%1.0f%%', figsize=(7, 7))"
   ]
  },
  {
   "cell_type": "code",
   "execution_count": null,
   "id": "f3d0641d",
   "metadata": {},
   "outputs": [],
   "source": [
    "# Daugumą kredito kortelių naudotojų sudaro žmonės gyvenantys namuose arba bute (90%)"
   ]
  },
  {
   "cell_type": "markdown",
   "id": "f6107d20",
   "metadata": {},
   "source": [
    "### Pagal darbo stažą"
   ]
  },
  {
   "cell_type": "code",
   "execution_count": 437,
   "id": "d3de645b",
   "metadata": {},
   "outputs": [
    {
     "data": {
      "text/plain": [
       "0           12.0\n",
       "1           12.0\n",
       "2            3.0\n",
       "3            8.0\n",
       "4            8.0\n",
       "           ...  \n",
       "438552   -1001.0\n",
       "438553       8.0\n",
       "438554       1.0\n",
       "438555   -1001.0\n",
       "438556       3.0\n",
       "Name: days_employed, Length: 438557, dtype: float64"
      ]
     },
     "execution_count": 437,
     "metadata": {},
     "output_type": "execute_result"
    }
   ],
   "source": [
    "arp['days_employed']=round(arp['days_employed']/(-365))\n",
    "arp['days_employed']"
   ]
  },
  {
   "cell_type": "code",
   "execution_count": 438,
   "id": "6bb73532",
   "metadata": {},
   "outputs": [],
   "source": [
    "arp.rename(columns={'days_employed': 'years_employed'}, inplace=True)"
   ]
  },
  {
   "cell_type": "code",
   "execution_count": 439,
   "id": "d70375db",
   "metadata": {},
   "outputs": [
    {
     "data": {
      "text/html": [
       "<div>\n",
       "<style scoped>\n",
       "    .dataframe tbody tr th:only-of-type {\n",
       "        vertical-align: middle;\n",
       "    }\n",
       "\n",
       "    .dataframe tbody tr th {\n",
       "        vertical-align: top;\n",
       "    }\n",
       "\n",
       "    .dataframe thead th {\n",
       "        text-align: right;\n",
       "    }\n",
       "</style>\n",
       "<table border=\"1\" class=\"dataframe\">\n",
       "  <thead>\n",
       "    <tr style=\"text-align: right;\">\n",
       "      <th></th>\n",
       "      <th>id</th>\n",
       "      <th>gender</th>\n",
       "      <th>car</th>\n",
       "      <th>realty</th>\n",
       "      <th>housing_type</th>\n",
       "      <th>marital_status</th>\n",
       "      <th>children</th>\n",
       "      <th>family_size</th>\n",
       "      <th>annual_income</th>\n",
       "      <th>income_type</th>\n",
       "      <th>occupation</th>\n",
       "      <th>education_level</th>\n",
       "      <th>age</th>\n",
       "      <th>years_employed</th>\n",
       "    </tr>\n",
       "  </thead>\n",
       "  <tbody>\n",
       "    <tr>\n",
       "      <th>0</th>\n",
       "      <td>5008804</td>\n",
       "      <td>M</td>\n",
       "      <td>Y</td>\n",
       "      <td>Y</td>\n",
       "      <td>Rented apartment</td>\n",
       "      <td>Civil marriage</td>\n",
       "      <td>0</td>\n",
       "      <td>2.0</td>\n",
       "      <td>427500.0</td>\n",
       "      <td>Working</td>\n",
       "      <td></td>\n",
       "      <td>Higher education</td>\n",
       "      <td>30.0</td>\n",
       "      <td>10.0</td>\n",
       "    </tr>\n",
       "    <tr>\n",
       "      <th>1</th>\n",
       "      <td>5008805</td>\n",
       "      <td>M</td>\n",
       "      <td>Y</td>\n",
       "      <td>Y</td>\n",
       "      <td>Rented apartment</td>\n",
       "      <td>Civil marriage</td>\n",
       "      <td>0</td>\n",
       "      <td>2.0</td>\n",
       "      <td>427500.0</td>\n",
       "      <td>Working</td>\n",
       "      <td></td>\n",
       "      <td>Higher education</td>\n",
       "      <td>30.0</td>\n",
       "      <td>10.0</td>\n",
       "    </tr>\n",
       "    <tr>\n",
       "      <th>2</th>\n",
       "      <td>5008806</td>\n",
       "      <td>M</td>\n",
       "      <td>Y</td>\n",
       "      <td>Y</td>\n",
       "      <td>House / apartment</td>\n",
       "      <td>Married</td>\n",
       "      <td>0</td>\n",
       "      <td>2.0</td>\n",
       "      <td>112500.0</td>\n",
       "      <td>Working</td>\n",
       "      <td>Security staff</td>\n",
       "      <td>Secondary / secondary special</td>\n",
       "      <td>50.0</td>\n",
       "      <td>0.0</td>\n",
       "    </tr>\n",
       "  </tbody>\n",
       "</table>\n",
       "</div>"
      ],
      "text/plain": [
       "        id gender car realty       housing_type  marital_status  children  \\\n",
       "0  5008804      M   Y      Y   Rented apartment  Civil marriage         0   \n",
       "1  5008805      M   Y      Y   Rented apartment  Civil marriage         0   \n",
       "2  5008806      M   Y      Y  House / apartment         Married         0   \n",
       "\n",
       "   family_size  annual_income income_type      occupation  \\\n",
       "0          2.0       427500.0     Working                   \n",
       "1          2.0       427500.0     Working                   \n",
       "2          2.0       112500.0     Working  Security staff   \n",
       "\n",
       "                 education_level   age  years_employed  \n",
       "0               Higher education  30.0            10.0  \n",
       "1               Higher education  30.0            10.0  \n",
       "2  Secondary / secondary special  50.0             0.0  "
      ]
     },
     "execution_count": 439,
     "metadata": {},
     "output_type": "execute_result"
    }
   ],
   "source": [
    "arp['years_employed']=(arp['years_employed']//10)*10\n",
    "arp.head(3)"
   ]
  },
  {
   "cell_type": "code",
   "execution_count": 446,
   "id": "49f88eaf",
   "metadata": {},
   "outputs": [],
   "source": [
    "arp['years_employed'] = arp['years_employed'].replace([-1010.0], ['Unemployed'])"
   ]
  },
  {
   "cell_type": "code",
   "execution_count": 447,
   "id": "f6aeb6f0",
   "metadata": {},
   "outputs": [
    {
     "data": {
      "text/plain": [
       "40.0             447\n",
       "30.0            4307\n",
       "20.0           17937\n",
       "10.0           70285\n",
       "Unemployed     75329\n",
       "0.0           270252\n",
       "Name: years_employed, dtype: int64"
      ]
     },
     "execution_count": 447,
     "metadata": {},
     "output_type": "execute_result"
    }
   ],
   "source": [
    "df27 = arp['years_employed'].value_counts().sort_values()\n",
    "df27"
   ]
  },
  {
   "cell_type": "code",
   "execution_count": 545,
   "id": "3ab5c47a",
   "metadata": {},
   "outputs": [
    {
     "data": {
      "text/plain": [
       "<AxesSubplot:title={'center':'Naudotojai pagal darbo stažą'}>"
      ]
     },
     "execution_count": 545,
     "metadata": {},
     "output_type": "execute_result"
    },
    {
     "data": {
      "image/png": "[encoded data removed]",
      "text/plain": [
       "<Figure size 648x648 with 1 Axes>"
      ]
     },
     "metadata": {},
     "output_type": "display_data"
    }
   ],
   "source": [
    "df27.plot.pie(ylabel='', title='Naudotojai pagal darbo stažą', autopct='%1.0f%%', figsize=(9, 9))"
   ]
  },
  {
   "cell_type": "code",
   "execution_count": null,
   "id": "a5976fbb",
   "metadata": {},
   "outputs": [],
   "source": [
    "# Daugumą kredito kortelių naudotojų sudaro žmonės turintys mažiau nei 10 metų darbo stažą (62%)"
   ]
  },
  {
   "cell_type": "markdown",
   "id": "490ae77a",
   "metadata": {},
   "source": [
    "## Kredito reitingo priklausomybė nuo asmens duomenų"
   ]
  },
  {
   "cell_type": "markdown",
   "id": "b1e11831",
   "metadata": {},
   "source": [
    "### Kredito reitingo skaičiavimas"
   ]
  },
  {
   "cell_type": "code",
   "execution_count": 450,
   "id": "2ec5748f",
   "metadata": {},
   "outputs": [
    {
     "data": {
      "text/html": [
       "<div>\n",
       "<style scoped>\n",
       "    .dataframe tbody tr th:only-of-type {\n",
       "        vertical-align: middle;\n",
       "    }\n",
       "\n",
       "    .dataframe tbody tr th {\n",
       "        vertical-align: top;\n",
       "    }\n",
       "\n",
       "    .dataframe thead th {\n",
       "        text-align: right;\n",
       "    }\n",
       "</style>\n",
       "<table border=\"1\" class=\"dataframe\">\n",
       "  <thead>\n",
       "    <tr style=\"text-align: right;\">\n",
       "      <th></th>\n",
       "      <th>id</th>\n",
       "      <th>gender</th>\n",
       "      <th>car</th>\n",
       "      <th>realty</th>\n",
       "      <th>housing_type</th>\n",
       "      <th>marital_status</th>\n",
       "      <th>children</th>\n",
       "      <th>family_size</th>\n",
       "      <th>annual_income</th>\n",
       "      <th>income_type</th>\n",
       "      <th>occupation</th>\n",
       "      <th>education_level</th>\n",
       "      <th>age</th>\n",
       "      <th>years_employed</th>\n",
       "      <th>months_balance</th>\n",
       "      <th>status</th>\n",
       "    </tr>\n",
       "  </thead>\n",
       "  <tbody>\n",
       "    <tr>\n",
       "      <th>0</th>\n",
       "      <td>5008804</td>\n",
       "      <td>M</td>\n",
       "      <td>Y</td>\n",
       "      <td>Y</td>\n",
       "      <td>Rented apartment</td>\n",
       "      <td>Civil marriage</td>\n",
       "      <td>0</td>\n",
       "      <td>2.0</td>\n",
       "      <td>427500.0</td>\n",
       "      <td>Working</td>\n",
       "      <td></td>\n",
       "      <td>Higher education</td>\n",
       "      <td>30.0</td>\n",
       "      <td>10.0</td>\n",
       "      <td>0</td>\n",
       "      <td>C</td>\n",
       "    </tr>\n",
       "    <tr>\n",
       "      <th>1</th>\n",
       "      <td>5008804</td>\n",
       "      <td>M</td>\n",
       "      <td>Y</td>\n",
       "      <td>Y</td>\n",
       "      <td>Rented apartment</td>\n",
       "      <td>Civil marriage</td>\n",
       "      <td>0</td>\n",
       "      <td>2.0</td>\n",
       "      <td>427500.0</td>\n",
       "      <td>Working</td>\n",
       "      <td></td>\n",
       "      <td>Higher education</td>\n",
       "      <td>30.0</td>\n",
       "      <td>10.0</td>\n",
       "      <td>-1</td>\n",
       "      <td>C</td>\n",
       "    </tr>\n",
       "    <tr>\n",
       "      <th>2</th>\n",
       "      <td>5008804</td>\n",
       "      <td>M</td>\n",
       "      <td>Y</td>\n",
       "      <td>Y</td>\n",
       "      <td>Rented apartment</td>\n",
       "      <td>Civil marriage</td>\n",
       "      <td>0</td>\n",
       "      <td>2.0</td>\n",
       "      <td>427500.0</td>\n",
       "      <td>Working</td>\n",
       "      <td></td>\n",
       "      <td>Higher education</td>\n",
       "      <td>30.0</td>\n",
       "      <td>10.0</td>\n",
       "      <td>-2</td>\n",
       "      <td>C</td>\n",
       "    </tr>\n",
       "  </tbody>\n",
       "</table>\n",
       "</div>"
      ],
      "text/plain": [
       "        id gender car realty      housing_type  marital_status  children  \\\n",
       "0  5008804      M   Y      Y  Rented apartment  Civil marriage         0   \n",
       "1  5008804      M   Y      Y  Rented apartment  Civil marriage         0   \n",
       "2  5008804      M   Y      Y  Rented apartment  Civil marriage         0   \n",
       "\n",
       "   family_size  annual_income income_type occupation   education_level   age  \\\n",
       "0          2.0       427500.0     Working             Higher education  30.0   \n",
       "1          2.0       427500.0     Working             Higher education  30.0   \n",
       "2          2.0       427500.0     Working             Higher education  30.0   \n",
       "\n",
       "  years_employed  months_balance status  \n",
       "0           10.0               0      C  \n",
       "1           10.0              -1      C  \n",
       "2           10.0              -2      C  "
      ]
     },
     "execution_count": 450,
     "metadata": {},
     "output_type": "execute_result"
    }
   ],
   "source": [
    "#Sujungiame dvi lenteles pagal kliento id\n",
    "df = pd.merge(ar, cr, on=['id'])\n",
    "df.head(3)"
   ]
  },
  {
   "cell_type": "code",
   "execution_count": 451,
   "id": "a35b2c0c",
   "metadata": {},
   "outputs": [
    {
     "name": "stdout",
     "output_type": "stream",
     "text": [
      "<class 'pandas.core.frame.DataFrame'>\n",
      "Int64Index: 777715 entries, 0 to 777714\n",
      "Data columns (total 16 columns):\n",
      " #   Column           Non-Null Count   Dtype  \n",
      "---  ------           --------------   -----  \n",
      " 0   id               777715 non-null  int64  \n",
      " 1   gender           777715 non-null  object \n",
      " 2   car              777715 non-null  object \n",
      " 3   realty           777715 non-null  object \n",
      " 4   housing_type     777715 non-null  object \n",
      " 5   marital_status   777715 non-null  object \n",
      " 6   children         777715 non-null  int64  \n",
      " 7   family_size      777715 non-null  float64\n",
      " 8   annual_income    777715 non-null  float64\n",
      " 9   income_type      777715 non-null  object \n",
      " 10  occupation       777715 non-null  object \n",
      " 11  education_level  777715 non-null  object \n",
      " 12  age              777715 non-null  float64\n",
      " 13  years_employed   777715 non-null  object \n",
      " 14  months_balance   777715 non-null  int64  \n",
      " 15  status           777715 non-null  object \n",
      "dtypes: float64(3), int64(3), object(10)\n",
      "memory usage: 100.9+ MB\n"
     ]
    }
   ],
   "source": [
    "df.info()"
   ]
  },
  {
   "cell_type": "code",
   "execution_count": 453,
   "id": "55fe9daa",
   "metadata": {},
   "outputs": [
    {
     "data": {
      "text/html": [
       "<div>\n",
       "<style scoped>\n",
       "    .dataframe tbody tr th:only-of-type {\n",
       "        vertical-align: middle;\n",
       "    }\n",
       "\n",
       "    .dataframe tbody tr th {\n",
       "        vertical-align: top;\n",
       "    }\n",
       "\n",
       "    .dataframe thead th {\n",
       "        text-align: right;\n",
       "    }\n",
       "</style>\n",
       "<table border=\"1\" class=\"dataframe\">\n",
       "  <thead>\n",
       "    <tr style=\"text-align: right;\">\n",
       "      <th></th>\n",
       "      <th>id</th>\n",
       "      <th>gender</th>\n",
       "      <th>car</th>\n",
       "      <th>realty</th>\n",
       "      <th>housing_type</th>\n",
       "      <th>marital_status</th>\n",
       "      <th>children</th>\n",
       "      <th>family_size</th>\n",
       "      <th>annual_income</th>\n",
       "      <th>income_type</th>\n",
       "      <th>occupation</th>\n",
       "      <th>education_level</th>\n",
       "      <th>age</th>\n",
       "      <th>years_employed</th>\n",
       "      <th>months_balance</th>\n",
       "      <th>status</th>\n",
       "    </tr>\n",
       "  </thead>\n",
       "  <tbody>\n",
       "    <tr>\n",
       "      <th>0</th>\n",
       "      <td>5008804</td>\n",
       "      <td>M</td>\n",
       "      <td>Y</td>\n",
       "      <td>Y</td>\n",
       "      <td>Rented apartment</td>\n",
       "      <td>Civil marriage</td>\n",
       "      <td>0</td>\n",
       "      <td>2.0</td>\n",
       "      <td>427500.0</td>\n",
       "      <td>Working</td>\n",
       "      <td></td>\n",
       "      <td>Higher education</td>\n",
       "      <td>30.0</td>\n",
       "      <td>10.0</td>\n",
       "      <td>0</td>\n",
       "      <td>-1</td>\n",
       "    </tr>\n",
       "    <tr>\n",
       "      <th>1</th>\n",
       "      <td>5008804</td>\n",
       "      <td>M</td>\n",
       "      <td>Y</td>\n",
       "      <td>Y</td>\n",
       "      <td>Rented apartment</td>\n",
       "      <td>Civil marriage</td>\n",
       "      <td>0</td>\n",
       "      <td>2.0</td>\n",
       "      <td>427500.0</td>\n",
       "      <td>Working</td>\n",
       "      <td></td>\n",
       "      <td>Higher education</td>\n",
       "      <td>30.0</td>\n",
       "      <td>10.0</td>\n",
       "      <td>-1</td>\n",
       "      <td>-1</td>\n",
       "    </tr>\n",
       "    <tr>\n",
       "      <th>2</th>\n",
       "      <td>5008804</td>\n",
       "      <td>M</td>\n",
       "      <td>Y</td>\n",
       "      <td>Y</td>\n",
       "      <td>Rented apartment</td>\n",
       "      <td>Civil marriage</td>\n",
       "      <td>0</td>\n",
       "      <td>2.0</td>\n",
       "      <td>427500.0</td>\n",
       "      <td>Working</td>\n",
       "      <td></td>\n",
       "      <td>Higher education</td>\n",
       "      <td>30.0</td>\n",
       "      <td>10.0</td>\n",
       "      <td>-2</td>\n",
       "      <td>-1</td>\n",
       "    </tr>\n",
       "    <tr>\n",
       "      <th>3</th>\n",
       "      <td>5008804</td>\n",
       "      <td>M</td>\n",
       "      <td>Y</td>\n",
       "      <td>Y</td>\n",
       "      <td>Rented apartment</td>\n",
       "      <td>Civil marriage</td>\n",
       "      <td>0</td>\n",
       "      <td>2.0</td>\n",
       "      <td>427500.0</td>\n",
       "      <td>Working</td>\n",
       "      <td></td>\n",
       "      <td>Higher education</td>\n",
       "      <td>30.0</td>\n",
       "      <td>10.0</td>\n",
       "      <td>-3</td>\n",
       "      <td>-1</td>\n",
       "    </tr>\n",
       "    <tr>\n",
       "      <th>4</th>\n",
       "      <td>5008804</td>\n",
       "      <td>M</td>\n",
       "      <td>Y</td>\n",
       "      <td>Y</td>\n",
       "      <td>Rented apartment</td>\n",
       "      <td>Civil marriage</td>\n",
       "      <td>0</td>\n",
       "      <td>2.0</td>\n",
       "      <td>427500.0</td>\n",
       "      <td>Working</td>\n",
       "      <td></td>\n",
       "      <td>Higher education</td>\n",
       "      <td>30.0</td>\n",
       "      <td>10.0</td>\n",
       "      <td>-4</td>\n",
       "      <td>-1</td>\n",
       "    </tr>\n",
       "    <tr>\n",
       "      <th>...</th>\n",
       "      <td>...</td>\n",
       "      <td>...</td>\n",
       "      <td>...</td>\n",
       "      <td>...</td>\n",
       "      <td>...</td>\n",
       "      <td>...</td>\n",
       "      <td>...</td>\n",
       "      <td>...</td>\n",
       "      <td>...</td>\n",
       "      <td>...</td>\n",
       "      <td>...</td>\n",
       "      <td>...</td>\n",
       "      <td>...</td>\n",
       "      <td>...</td>\n",
       "      <td>...</td>\n",
       "      <td>...</td>\n",
       "    </tr>\n",
       "    <tr>\n",
       "      <th>777710</th>\n",
       "      <td>5150337</td>\n",
       "      <td>M</td>\n",
       "      <td>N</td>\n",
       "      <td>Y</td>\n",
       "      <td>Rented apartment</td>\n",
       "      <td>Single / not married</td>\n",
       "      <td>0</td>\n",
       "      <td>1.0</td>\n",
       "      <td>112500.0</td>\n",
       "      <td>Working</td>\n",
       "      <td>Laborers</td>\n",
       "      <td>Secondary / secondary special</td>\n",
       "      <td>20.0</td>\n",
       "      <td>0.0</td>\n",
       "      <td>-9</td>\n",
       "      <td>0</td>\n",
       "    </tr>\n",
       "    <tr>\n",
       "      <th>777711</th>\n",
       "      <td>5150337</td>\n",
       "      <td>M</td>\n",
       "      <td>N</td>\n",
       "      <td>Y</td>\n",
       "      <td>Rented apartment</td>\n",
       "      <td>Single / not married</td>\n",
       "      <td>0</td>\n",
       "      <td>1.0</td>\n",
       "      <td>112500.0</td>\n",
       "      <td>Working</td>\n",
       "      <td>Laborers</td>\n",
       "      <td>Secondary / secondary special</td>\n",
       "      <td>20.0</td>\n",
       "      <td>0.0</td>\n",
       "      <td>-10</td>\n",
       "      <td>2</td>\n",
       "    </tr>\n",
       "    <tr>\n",
       "      <th>777712</th>\n",
       "      <td>5150337</td>\n",
       "      <td>M</td>\n",
       "      <td>N</td>\n",
       "      <td>Y</td>\n",
       "      <td>Rented apartment</td>\n",
       "      <td>Single / not married</td>\n",
       "      <td>0</td>\n",
       "      <td>1.0</td>\n",
       "      <td>112500.0</td>\n",
       "      <td>Working</td>\n",
       "      <td>Laborers</td>\n",
       "      <td>Secondary / secondary special</td>\n",
       "      <td>20.0</td>\n",
       "      <td>0.0</td>\n",
       "      <td>-11</td>\n",
       "      <td>1</td>\n",
       "    </tr>\n",
       "    <tr>\n",
       "      <th>777713</th>\n",
       "      <td>5150337</td>\n",
       "      <td>M</td>\n",
       "      <td>N</td>\n",
       "      <td>Y</td>\n",
       "      <td>Rented apartment</td>\n",
       "      <td>Single / not married</td>\n",
       "      <td>0</td>\n",
       "      <td>1.0</td>\n",
       "      <td>112500.0</td>\n",
       "      <td>Working</td>\n",
       "      <td>Laborers</td>\n",
       "      <td>Secondary / secondary special</td>\n",
       "      <td>20.0</td>\n",
       "      <td>0.0</td>\n",
       "      <td>-12</td>\n",
       "      <td>0</td>\n",
       "    </tr>\n",
       "    <tr>\n",
       "      <th>777714</th>\n",
       "      <td>5150337</td>\n",
       "      <td>M</td>\n",
       "      <td>N</td>\n",
       "      <td>Y</td>\n",
       "      <td>Rented apartment</td>\n",
       "      <td>Single / not married</td>\n",
       "      <td>0</td>\n",
       "      <td>1.0</td>\n",
       "      <td>112500.0</td>\n",
       "      <td>Working</td>\n",
       "      <td>Laborers</td>\n",
       "      <td>Secondary / secondary special</td>\n",
       "      <td>20.0</td>\n",
       "      <td>0.0</td>\n",
       "      <td>-13</td>\n",
       "      <td>0</td>\n",
       "    </tr>\n",
       "  </tbody>\n",
       "</table>\n",
       "<p>777715 rows × 16 columns</p>\n",
       "</div>"
      ],
      "text/plain": [
       "             id gender car realty      housing_type        marital_status  \\\n",
       "0       5008804      M   Y      Y  Rented apartment        Civil marriage   \n",
       "1       5008804      M   Y      Y  Rented apartment        Civil marriage   \n",
       "2       5008804      M   Y      Y  Rented apartment        Civil marriage   \n",
       "3       5008804      M   Y      Y  Rented apartment        Civil marriage   \n",
       "4       5008804      M   Y      Y  Rented apartment        Civil marriage   \n",
       "...         ...    ...  ..    ...               ...                   ...   \n",
       "777710  5150337      M   N      Y  Rented apartment  Single / not married   \n",
       "777711  5150337      M   N      Y  Rented apartment  Single / not married   \n",
       "777712  5150337      M   N      Y  Rented apartment  Single / not married   \n",
       "777713  5150337      M   N      Y  Rented apartment  Single / not married   \n",
       "777714  5150337      M   N      Y  Rented apartment  Single / not married   \n",
       "\n",
       "        children  family_size  annual_income income_type occupation  \\\n",
       "0              0          2.0       427500.0     Working              \n",
       "1              0          2.0       427500.0     Working              \n",
       "2              0          2.0       427500.0     Working              \n",
       "3              0          2.0       427500.0     Working              \n",
       "4              0          2.0       427500.0     Working              \n",
       "...          ...          ...            ...         ...        ...   \n",
       "777710         0          1.0       112500.0     Working   Laborers   \n",
       "777711         0          1.0       112500.0     Working   Laborers   \n",
       "777712         0          1.0       112500.0     Working   Laborers   \n",
       "777713         0          1.0       112500.0     Working   Laborers   \n",
       "777714         0          1.0       112500.0     Working   Laborers   \n",
       "\n",
       "                      education_level   age years_employed  months_balance  \\\n",
       "0                    Higher education  30.0           10.0               0   \n",
       "1                    Higher education  30.0           10.0              -1   \n",
       "2                    Higher education  30.0           10.0              -2   \n",
       "3                    Higher education  30.0           10.0              -3   \n",
       "4                    Higher education  30.0           10.0              -4   \n",
       "...                               ...   ...            ...             ...   \n",
       "777710  Secondary / secondary special  20.0            0.0              -9   \n",
       "777711  Secondary / secondary special  20.0            0.0             -10   \n",
       "777712  Secondary / secondary special  20.0            0.0             -11   \n",
       "777713  Secondary / secondary special  20.0            0.0             -12   \n",
       "777714  Secondary / secondary special  20.0            0.0             -13   \n",
       "\n",
       "       status  \n",
       "0          -1  \n",
       "1          -1  \n",
       "2          -1  \n",
       "3          -1  \n",
       "4          -1  \n",
       "...       ...  \n",
       "777710      0  \n",
       "777711      2  \n",
       "777712      1  \n",
       "777713      0  \n",
       "777714      0  \n",
       "\n",
       "[777715 rows x 16 columns]"
      ]
     },
     "execution_count": 453,
     "metadata": {},
     "output_type": "execute_result"
    }
   ],
   "source": [
    "#Pakeisime stulpelio statuso reikšmes ir tipo į int, kad vėliau galėtumėm apskaičiuoti kredito reitingus:\n",
    "#'C' reiškia 'buvo sumokėta laiku', \n",
    "#'X' reiškia 'kredito nebuvo šį mėnesį'\n",
    "#'0' reiškia 'klientas pavėlavo sumokėti 0-29 dd.'\n",
    "#'1' reiškia 'klientas pavėlavo sumokėti 30-59 dd.'\n",
    "#'2' reiškia 'klientas pavėlavo sumokėti 60-89 dd.'\n",
    "#'3' reiškia 'klientas pavėlavo sumokėti 90-119 dd.'\n",
    "#'4' reiškia 'klientas pavėlavo sumokėti 120-149 dd.'\n",
    "#'5' reiškia 'Pradelstos ar beviltiškos skolos, klientas pavėlavo sumokėti >150 dd.'\n",
    "df['status'] = df['status'].replace(['C', 'X'], [-1, -1])\n",
    "df"
   ]
  },
  {
   "cell_type": "code",
   "execution_count": 454,
   "id": "e75f6496",
   "metadata": {},
   "outputs": [
    {
     "data": {
      "text/plain": [
       "dtype('O')"
      ]
     },
     "execution_count": 454,
     "metadata": {},
     "output_type": "execute_result"
    }
   ],
   "source": [
    "df['status'].dtype"
   ]
  },
  {
   "cell_type": "code",
   "execution_count": 456,
   "id": "da89d8ba",
   "metadata": {},
   "outputs": [],
   "source": [
    "df['status'] = df['status'].astype('int64')"
   ]
  },
  {
   "cell_type": "code",
   "execution_count": 458,
   "id": "e264c3a0",
   "metadata": {},
   "outputs": [
    {
     "data": {
      "text/html": [
       "<div>\n",
       "<style scoped>\n",
       "    .dataframe tbody tr th:only-of-type {\n",
       "        vertical-align: middle;\n",
       "    }\n",
       "\n",
       "    .dataframe tbody tr th {\n",
       "        vertical-align: top;\n",
       "    }\n",
       "\n",
       "    .dataframe thead th {\n",
       "        text-align: right;\n",
       "    }\n",
       "</style>\n",
       "<table border=\"1\" class=\"dataframe\">\n",
       "  <thead>\n",
       "    <tr style=\"text-align: right;\">\n",
       "      <th></th>\n",
       "      <th>id</th>\n",
       "      <th>gender</th>\n",
       "      <th>car</th>\n",
       "      <th>realty</th>\n",
       "      <th>housing_type</th>\n",
       "      <th>marital_status</th>\n",
       "      <th>children</th>\n",
       "      <th>family_size</th>\n",
       "      <th>annual_income</th>\n",
       "      <th>income_type</th>\n",
       "      <th>occupation</th>\n",
       "      <th>education_level</th>\n",
       "      <th>age</th>\n",
       "      <th>years_employed</th>\n",
       "      <th>months_balance</th>\n",
       "      <th>rating</th>\n",
       "    </tr>\n",
       "  </thead>\n",
       "  <tbody>\n",
       "    <tr>\n",
       "      <th>0</th>\n",
       "      <td>5008804</td>\n",
       "      <td>M</td>\n",
       "      <td>Y</td>\n",
       "      <td>Y</td>\n",
       "      <td>Rented apartment</td>\n",
       "      <td>Civil marriage</td>\n",
       "      <td>0</td>\n",
       "      <td>2.0</td>\n",
       "      <td>427500.0</td>\n",
       "      <td>Working</td>\n",
       "      <td></td>\n",
       "      <td>Higher education</td>\n",
       "      <td>30.0</td>\n",
       "      <td>10.0</td>\n",
       "      <td>0</td>\n",
       "      <td>-1</td>\n",
       "    </tr>\n",
       "    <tr>\n",
       "      <th>1</th>\n",
       "      <td>5008804</td>\n",
       "      <td>M</td>\n",
       "      <td>Y</td>\n",
       "      <td>Y</td>\n",
       "      <td>Rented apartment</td>\n",
       "      <td>Civil marriage</td>\n",
       "      <td>0</td>\n",
       "      <td>2.0</td>\n",
       "      <td>427500.0</td>\n",
       "      <td>Working</td>\n",
       "      <td></td>\n",
       "      <td>Higher education</td>\n",
       "      <td>30.0</td>\n",
       "      <td>10.0</td>\n",
       "      <td>-1</td>\n",
       "      <td>-1</td>\n",
       "    </tr>\n",
       "    <tr>\n",
       "      <th>2</th>\n",
       "      <td>5008804</td>\n",
       "      <td>M</td>\n",
       "      <td>Y</td>\n",
       "      <td>Y</td>\n",
       "      <td>Rented apartment</td>\n",
       "      <td>Civil marriage</td>\n",
       "      <td>0</td>\n",
       "      <td>2.0</td>\n",
       "      <td>427500.0</td>\n",
       "      <td>Working</td>\n",
       "      <td></td>\n",
       "      <td>Higher education</td>\n",
       "      <td>30.0</td>\n",
       "      <td>10.0</td>\n",
       "      <td>-2</td>\n",
       "      <td>-1</td>\n",
       "    </tr>\n",
       "  </tbody>\n",
       "</table>\n",
       "</div>"
      ],
      "text/plain": [
       "        id gender car realty      housing_type  marital_status  children  \\\n",
       "0  5008804      M   Y      Y  Rented apartment  Civil marriage         0   \n",
       "1  5008804      M   Y      Y  Rented apartment  Civil marriage         0   \n",
       "2  5008804      M   Y      Y  Rented apartment  Civil marriage         0   \n",
       "\n",
       "   family_size  annual_income income_type occupation   education_level   age  \\\n",
       "0          2.0       427500.0     Working             Higher education  30.0   \n",
       "1          2.0       427500.0     Working             Higher education  30.0   \n",
       "2          2.0       427500.0     Working             Higher education  30.0   \n",
       "\n",
       "  years_employed  months_balance  rating  \n",
       "0           10.0               0      -1  \n",
       "1           10.0              -1      -1  \n",
       "2           10.0              -2      -1  "
      ]
     },
     "execution_count": 458,
     "metadata": {},
     "output_type": "execute_result"
    }
   ],
   "source": [
    "df.rename(columns={'status': 'rating'}, inplace=True)\n",
    "df.head(3)"
   ]
  },
  {
   "cell_type": "code",
   "execution_count": 459,
   "id": "d9d4af4c",
   "metadata": {},
   "outputs": [
    {
     "data": {
      "text/plain": [
       "id\n",
       "5008804   -13\n",
       "5008805   -12\n",
       "5008806   -23\n",
       "5008808    -3\n",
       "5008809    -5\n",
       "           ..\n",
       "5150482    -6\n",
       "5150483   -18\n",
       "5150484    -1\n",
       "5150485     0\n",
       "5150487   -30\n",
       "Name: rating, Length: 36457, dtype: int64"
      ]
     },
     "execution_count": 459,
     "metadata": {},
     "output_type": "execute_result"
    }
   ],
   "source": [
    "# Skaičiuojame kredito reitingą kiekvienam klientui pagal 'id' \n",
    "df1 = df.groupby('id')['rating'].sum()\n",
    "df1"
   ]
  },
  {
   "cell_type": "code",
   "execution_count": 461,
   "id": "7cf82eee",
   "metadata": {},
   "outputs": [
    {
     "data": {
      "text/html": [
       "<div>\n",
       "<style scoped>\n",
       "    .dataframe tbody tr th:only-of-type {\n",
       "        vertical-align: middle;\n",
       "    }\n",
       "\n",
       "    .dataframe tbody tr th {\n",
       "        vertical-align: top;\n",
       "    }\n",
       "\n",
       "    .dataframe thead th {\n",
       "        text-align: right;\n",
       "    }\n",
       "</style>\n",
       "<table border=\"1\" class=\"dataframe\">\n",
       "  <thead>\n",
       "    <tr style=\"text-align: right;\">\n",
       "      <th></th>\n",
       "      <th>id</th>\n",
       "      <th>gender</th>\n",
       "      <th>car</th>\n",
       "      <th>realty</th>\n",
       "      <th>housing_type</th>\n",
       "      <th>marital_status</th>\n",
       "      <th>children</th>\n",
       "      <th>family_size</th>\n",
       "      <th>annual_income</th>\n",
       "      <th>income_type</th>\n",
       "      <th>occupation</th>\n",
       "      <th>education_level</th>\n",
       "      <th>age</th>\n",
       "      <th>years_employed</th>\n",
       "      <th>rating</th>\n",
       "    </tr>\n",
       "  </thead>\n",
       "  <tbody>\n",
       "    <tr>\n",
       "      <th>0</th>\n",
       "      <td>5008804</td>\n",
       "      <td>M</td>\n",
       "      <td>Y</td>\n",
       "      <td>Y</td>\n",
       "      <td>Rented apartment</td>\n",
       "      <td>Civil marriage</td>\n",
       "      <td>0</td>\n",
       "      <td>2.0</td>\n",
       "      <td>427500.0</td>\n",
       "      <td>Working</td>\n",
       "      <td></td>\n",
       "      <td>Higher education</td>\n",
       "      <td>30.0</td>\n",
       "      <td>10.0</td>\n",
       "      <td>-13</td>\n",
       "    </tr>\n",
       "    <tr>\n",
       "      <th>1</th>\n",
       "      <td>5008805</td>\n",
       "      <td>M</td>\n",
       "      <td>Y</td>\n",
       "      <td>Y</td>\n",
       "      <td>Rented apartment</td>\n",
       "      <td>Civil marriage</td>\n",
       "      <td>0</td>\n",
       "      <td>2.0</td>\n",
       "      <td>427500.0</td>\n",
       "      <td>Working</td>\n",
       "      <td></td>\n",
       "      <td>Higher education</td>\n",
       "      <td>30.0</td>\n",
       "      <td>10.0</td>\n",
       "      <td>-12</td>\n",
       "    </tr>\n",
       "    <tr>\n",
       "      <th>2</th>\n",
       "      <td>5008806</td>\n",
       "      <td>M</td>\n",
       "      <td>Y</td>\n",
       "      <td>Y</td>\n",
       "      <td>House / apartment</td>\n",
       "      <td>Married</td>\n",
       "      <td>0</td>\n",
       "      <td>2.0</td>\n",
       "      <td>112500.0</td>\n",
       "      <td>Working</td>\n",
       "      <td>Security staff</td>\n",
       "      <td>Secondary / secondary special</td>\n",
       "      <td>50.0</td>\n",
       "      <td>0.0</td>\n",
       "      <td>-23</td>\n",
       "    </tr>\n",
       "    <tr>\n",
       "      <th>3</th>\n",
       "      <td>5008808</td>\n",
       "      <td>F</td>\n",
       "      <td>N</td>\n",
       "      <td>Y</td>\n",
       "      <td>House / apartment</td>\n",
       "      <td>Single / not married</td>\n",
       "      <td>0</td>\n",
       "      <td>1.0</td>\n",
       "      <td>270000.0</td>\n",
       "      <td>Commercial associate</td>\n",
       "      <td>Sales staff</td>\n",
       "      <td>Secondary / secondary special</td>\n",
       "      <td>50.0</td>\n",
       "      <td>0.0</td>\n",
       "      <td>-3</td>\n",
       "    </tr>\n",
       "    <tr>\n",
       "      <th>4</th>\n",
       "      <td>5008809</td>\n",
       "      <td>F</td>\n",
       "      <td>N</td>\n",
       "      <td>Y</td>\n",
       "      <td>House / apartment</td>\n",
       "      <td>Single / not married</td>\n",
       "      <td>0</td>\n",
       "      <td>1.0</td>\n",
       "      <td>270000.0</td>\n",
       "      <td>Commercial associate</td>\n",
       "      <td>Sales staff</td>\n",
       "      <td>Secondary / secondary special</td>\n",
       "      <td>50.0</td>\n",
       "      <td>0.0</td>\n",
       "      <td>-5</td>\n",
       "    </tr>\n",
       "    <tr>\n",
       "      <th>...</th>\n",
       "      <td>...</td>\n",
       "      <td>...</td>\n",
       "      <td>...</td>\n",
       "      <td>...</td>\n",
       "      <td>...</td>\n",
       "      <td>...</td>\n",
       "      <td>...</td>\n",
       "      <td>...</td>\n",
       "      <td>...</td>\n",
       "      <td>...</td>\n",
       "      <td>...</td>\n",
       "      <td>...</td>\n",
       "      <td>...</td>\n",
       "      <td>...</td>\n",
       "      <td>...</td>\n",
       "    </tr>\n",
       "    <tr>\n",
       "      <th>36452</th>\n",
       "      <td>5149828</td>\n",
       "      <td>M</td>\n",
       "      <td>Y</td>\n",
       "      <td>Y</td>\n",
       "      <td>House / apartment</td>\n",
       "      <td>Married</td>\n",
       "      <td>0</td>\n",
       "      <td>2.0</td>\n",
       "      <td>315000.0</td>\n",
       "      <td>Working</td>\n",
       "      <td>Managers</td>\n",
       "      <td>Secondary / secondary special</td>\n",
       "      <td>40.0</td>\n",
       "      <td>0.0</td>\n",
       "      <td>11</td>\n",
       "    </tr>\n",
       "    <tr>\n",
       "      <th>36453</th>\n",
       "      <td>5149834</td>\n",
       "      <td>F</td>\n",
       "      <td>N</td>\n",
       "      <td>Y</td>\n",
       "      <td>House / apartment</td>\n",
       "      <td>Married</td>\n",
       "      <td>0</td>\n",
       "      <td>2.0</td>\n",
       "      <td>157500.0</td>\n",
       "      <td>Commercial associate</td>\n",
       "      <td>Medicine staff</td>\n",
       "      <td>Higher education</td>\n",
       "      <td>30.0</td>\n",
       "      <td>0.0</td>\n",
       "      <td>48</td>\n",
       "    </tr>\n",
       "    <tr>\n",
       "      <th>36454</th>\n",
       "      <td>5149838</td>\n",
       "      <td>F</td>\n",
       "      <td>N</td>\n",
       "      <td>Y</td>\n",
       "      <td>House / apartment</td>\n",
       "      <td>Married</td>\n",
       "      <td>0</td>\n",
       "      <td>2.0</td>\n",
       "      <td>157500.0</td>\n",
       "      <td>Pensioner</td>\n",
       "      <td>Medicine staff</td>\n",
       "      <td>Higher education</td>\n",
       "      <td>30.0</td>\n",
       "      <td>0.0</td>\n",
       "      <td>39</td>\n",
       "    </tr>\n",
       "    <tr>\n",
       "      <th>36455</th>\n",
       "      <td>5150049</td>\n",
       "      <td>F</td>\n",
       "      <td>N</td>\n",
       "      <td>Y</td>\n",
       "      <td>House / apartment</td>\n",
       "      <td>Married</td>\n",
       "      <td>0</td>\n",
       "      <td>2.0</td>\n",
       "      <td>283500.0</td>\n",
       "      <td>Working</td>\n",
       "      <td>Sales staff</td>\n",
       "      <td>Secondary / secondary special</td>\n",
       "      <td>40.0</td>\n",
       "      <td>0.0</td>\n",
       "      <td>3</td>\n",
       "    </tr>\n",
       "    <tr>\n",
       "      <th>36456</th>\n",
       "      <td>5150337</td>\n",
       "      <td>M</td>\n",
       "      <td>N</td>\n",
       "      <td>Y</td>\n",
       "      <td>Rented apartment</td>\n",
       "      <td>Single / not married</td>\n",
       "      <td>0</td>\n",
       "      <td>1.0</td>\n",
       "      <td>112500.0</td>\n",
       "      <td>Working</td>\n",
       "      <td>Laborers</td>\n",
       "      <td>Secondary / secondary special</td>\n",
       "      <td>20.0</td>\n",
       "      <td>0.0</td>\n",
       "      <td>3</td>\n",
       "    </tr>\n",
       "  </tbody>\n",
       "</table>\n",
       "<p>36457 rows × 15 columns</p>\n",
       "</div>"
      ],
      "text/plain": [
       "            id gender car realty       housing_type        marital_status  \\\n",
       "0      5008804      M   Y      Y   Rented apartment        Civil marriage   \n",
       "1      5008805      M   Y      Y   Rented apartment        Civil marriage   \n",
       "2      5008806      M   Y      Y  House / apartment               Married   \n",
       "3      5008808      F   N      Y  House / apartment  Single / not married   \n",
       "4      5008809      F   N      Y  House / apartment  Single / not married   \n",
       "...        ...    ...  ..    ...                ...                   ...   \n",
       "36452  5149828      M   Y      Y  House / apartment               Married   \n",
       "36453  5149834      F   N      Y  House / apartment               Married   \n",
       "36454  5149838      F   N      Y  House / apartment               Married   \n",
       "36455  5150049      F   N      Y  House / apartment               Married   \n",
       "36456  5150337      M   N      Y   Rented apartment  Single / not married   \n",
       "\n",
       "       children  family_size  annual_income           income_type  \\\n",
       "0             0          2.0       427500.0               Working   \n",
       "1             0          2.0       427500.0               Working   \n",
       "2             0          2.0       112500.0               Working   \n",
       "3             0          1.0       270000.0  Commercial associate   \n",
       "4             0          1.0       270000.0  Commercial associate   \n",
       "...         ...          ...            ...                   ...   \n",
       "36452         0          2.0       315000.0               Working   \n",
       "36453         0          2.0       157500.0  Commercial associate   \n",
       "36454         0          2.0       157500.0             Pensioner   \n",
       "36455         0          2.0       283500.0               Working   \n",
       "36456         0          1.0       112500.0               Working   \n",
       "\n",
       "           occupation                education_level   age years_employed  \\\n",
       "0                                   Higher education  30.0           10.0   \n",
       "1                                   Higher education  30.0           10.0   \n",
       "2      Security staff  Secondary / secondary special  50.0            0.0   \n",
       "3         Sales staff  Secondary / secondary special  50.0            0.0   \n",
       "4         Sales staff  Secondary / secondary special  50.0            0.0   \n",
       "...               ...                            ...   ...            ...   \n",
       "36452        Managers  Secondary / secondary special  40.0            0.0   \n",
       "36453  Medicine staff               Higher education  30.0            0.0   \n",
       "36454  Medicine staff               Higher education  30.0            0.0   \n",
       "36455     Sales staff  Secondary / secondary special  40.0            0.0   \n",
       "36456        Laborers  Secondary / secondary special  20.0            0.0   \n",
       "\n",
       "       rating  \n",
       "0         -13  \n",
       "1         -12  \n",
       "2         -23  \n",
       "3          -3  \n",
       "4          -5  \n",
       "...       ...  \n",
       "36452      11  \n",
       "36453      48  \n",
       "36454      39  \n",
       "36455       3  \n",
       "36456       3  \n",
       "\n",
       "[36457 rows x 15 columns]"
      ]
     },
     "execution_count": 461,
     "metadata": {},
     "output_type": "execute_result"
    }
   ],
   "source": [
    "# Sujungiame dvi lenteles su paskaičiuotu reitingu pagal kliento id\n",
    "df2 = pd.merge(arp, df1, on=['id'])\n",
    "df2"
   ]
  },
  {
   "cell_type": "code",
   "execution_count": 464,
   "id": "449a61b9",
   "metadata": {},
   "outputs": [
    {
     "data": {
      "text/plain": [
       "count    36457.000000\n",
       "mean       -12.502071\n",
       "std         14.968721\n",
       "min        -61.000000\n",
       "25%        -21.000000\n",
       "50%         -8.000000\n",
       "75%         -1.000000\n",
       "max        235.000000\n",
       "Name: rating, dtype: float64"
      ]
     },
     "execution_count": 464,
     "metadata": {},
     "output_type": "execute_result"
    }
   ],
   "source": [
    "df2['rating'].describe()"
   ]
  },
  {
   "cell_type": "code",
   "execution_count": null,
   "id": "2c87f209",
   "metadata": {},
   "outputs": [],
   "source": [
    "# Turime asmens duomenų ir kredito kortelių įrašus apie 36457 klientus."
   ]
  },
  {
   "cell_type": "markdown",
   "id": "bed715ad",
   "metadata": {},
   "source": [
    "### Reitingas pagal pajamų šaltinį"
   ]
  },
  {
   "cell_type": "code",
   "execution_count": 476,
   "id": "1296e298",
   "metadata": {},
   "outputs": [
    {
     "data": {
      "text/plain": [
       "income_type\n",
       "Student                 24.0\n",
       "State servant           13.0\n",
       "Working                 13.0\n",
       "Commercial associate    12.0\n",
       "Pensioner               12.0\n",
       "Name: rating, dtype: float64"
      ]
     },
     "execution_count": 476,
     "metadata": {},
     "output_type": "execute_result"
    }
   ],
   "source": [
    "df3 = df2.groupby('income_type')['rating'].mean().sort_values().abs().round()\n",
    "df3"
   ]
  },
  {
   "cell_type": "code",
   "execution_count": 470,
   "id": "a2cf9417",
   "metadata": {},
   "outputs": [
    {
     "data": {
      "text/plain": [
       "<AxesSubplot:title={'center':'Reitingas pagal pajamų šaltinį'}>"
      ]
     },
     "execution_count": 470,
     "metadata": {},
     "output_type": "execute_result"
    },
    {
     "data": {
      "image/png": "[encoded data removed]",
      "text/plain": [
       "<Figure size 504x504 with 1 Axes>"
      ]
     },
     "metadata": {},
     "output_type": "display_data"
    }
   ],
   "source": [
    "df3.plot.pie(ylabel='', title='Reitingas pagal pajamų šaltinį', autopct='%1.0f%%', figsize=(7, 7))"
   ]
  },
  {
   "cell_type": "code",
   "execution_count": 501,
   "id": "f4fc8528",
   "metadata": {},
   "outputs": [
    {
     "data": {
      "text/plain": [
       "<AxesSubplot:xlabel='income_type', ylabel='rating'>"
      ]
     },
     "execution_count": 501,
     "metadata": {},
     "output_type": "execute_result"
    },
    {
     "data": {
      "image/png": "[encoded data removed]",
      "text/plain": [
       "<Figure size 432x288 with 1 Axes>"
      ]
     },
     "metadata": {
      "needs_background": "light"
     },
     "output_type": "display_data"
    }
   ],
   "source": [
    "sns.boxplot(x='income_type', y='rating', data=df2)"
   ]
  },
  {
   "cell_type": "code",
   "execution_count": null,
   "id": "8a82a2f8",
   "metadata": {},
   "outputs": [],
   "source": [
    "# Aukštesnį kredito reitingą turi studentai. Didesnę tikimybę negrąžinti paskolos laiku turi prekybininkų atstovai, \n",
    "# pensininkai ir dirbantys žmonės."
   ]
  },
  {
   "cell_type": "markdown",
   "id": "b9716bec",
   "metadata": {},
   "source": [
    "### Reitingas pagal išsilavinimą"
   ]
  },
  {
   "cell_type": "code",
   "execution_count": 494,
   "id": "1ec1ed3d",
   "metadata": {},
   "outputs": [
    {
     "data": {
      "text/plain": [
       "education_level\n",
       "Academic degree                  19.156250\n",
       "Lower secondary                  14.387701\n",
       "Higher education                 12.893451\n",
       "Incomplete higher                12.376596\n",
       "Secondary / secondary special    12.316342\n",
       "Name: rating, dtype: float64"
      ]
     },
     "execution_count": 494,
     "metadata": {},
     "output_type": "execute_result"
    }
   ],
   "source": [
    "df4 = df2.groupby('education_level')['rating'].mean().sort_values().abs()\n",
    "df4"
   ]
  },
  {
   "cell_type": "code",
   "execution_count": 496,
   "id": "04725f89",
   "metadata": {},
   "outputs": [
    {
     "data": {
      "text/plain": [
       "<AxesSubplot:title={'center':'Reitingas pagal išsilavinimą'}>"
      ]
     },
     "execution_count": 496,
     "metadata": {},
     "output_type": "execute_result"
    },
    {
     "data": {
      "image/png": "[encoded data removed]",
      "text/plain": [
       "<Figure size 504x504 with 1 Axes>"
      ]
     },
     "metadata": {},
     "output_type": "display_data"
    }
   ],
   "source": [
    "df4.plot.pie(ylabel='', title='Reitingas pagal išsilavinimą', autopct='%1.0f%%', figsize=(7, 7))"
   ]
  },
  {
   "cell_type": "code",
   "execution_count": 498,
   "id": "a0705d03",
   "metadata": {},
   "outputs": [
    {
     "data": {
      "text/plain": [
       "<AxesSubplot:xlabel='education_level', ylabel='rating'>"
      ]
     },
     "execution_count": 498,
     "metadata": {},
     "output_type": "execute_result"
    },
    {
     "data": {
      "image/png": "[encoded data removed]",
      "text/plain": [
       "<Figure size 432x288 with 1 Axes>"
      ]
     },
     "metadata": {
      "needs_background": "light"
     },
     "output_type": "display_data"
    }
   ],
   "source": [
    "sns.boxplot(x='education_level', y='rating', data=df2)"
   ]
  },
  {
   "cell_type": "code",
   "execution_count": null,
   "id": "765cff37",
   "metadata": {},
   "outputs": [],
   "source": [
    "# Aukštesnį kredito reitingą turi žmonės su akademiniu laipsniu. Didesnę tikimybę negrąžinti paskolos laiku turi \n",
    "# žmonės su viduriniu išsilavinimu."
   ]
  },
  {
   "cell_type": "markdown",
   "id": "da8ded96",
   "metadata": {},
   "source": [
    "### Reitingas pagal lytį"
   ]
  },
  {
   "cell_type": "code",
   "execution_count": 502,
   "id": "b63c2096",
   "metadata": {},
   "outputs": [
    {
     "data": {
      "text/plain": [
       "gender\n",
       "M    12.529725\n",
       "F    12.488457\n",
       "Name: rating, dtype: float64"
      ]
     },
     "execution_count": 502,
     "metadata": {},
     "output_type": "execute_result"
    }
   ],
   "source": [
    "df5 = df2.groupby('gender')['rating'].mean().sort_values().abs()\n",
    "df5"
   ]
  },
  {
   "cell_type": "code",
   "execution_count": 504,
   "id": "b7813ea3",
   "metadata": {},
   "outputs": [
    {
     "data": {
      "text/plain": [
       "<AxesSubplot:title={'center':'Reitingas pagal lytį'}>"
      ]
     },
     "execution_count": 504,
     "metadata": {},
     "output_type": "execute_result"
    },
    {
     "data": {
      "image/png": "[encoded data removed]",
      "text/plain": [
       "<Figure size 504x504 with 1 Axes>"
      ]
     },
     "metadata": {},
     "output_type": "display_data"
    }
   ],
   "source": [
    "df5.plot.pie(ylabel='', title='Reitingas pagal lytį', autopct='%1.0f%%', figsize=(7, 7))"
   ]
  },
  {
   "cell_type": "code",
   "execution_count": 505,
   "id": "17b52c8a",
   "metadata": {},
   "outputs": [
    {
     "data": {
      "text/plain": [
       "<AxesSubplot:xlabel='gender', ylabel='rating'>"
      ]
     },
     "execution_count": 505,
     "metadata": {},
     "output_type": "execute_result"
    },
    {
     "data": {
      "image/png": "[encoded data removed]",
      "text/plain": [
       "<Figure size 432x288 with 1 Axes>"
      ]
     },
     "metadata": {
      "needs_background": "light"
     },
     "output_type": "display_data"
    }
   ],
   "source": [
    "sns.boxplot(x='gender', y='rating', data=df2)"
   ]
  },
  {
   "cell_type": "code",
   "execution_count": null,
   "id": "e1243b6b",
   "metadata": {},
   "outputs": [],
   "source": [
    "# Kredito reitingas nepliklauso nuo lyties"
   ]
  },
  {
   "cell_type": "markdown",
   "id": "30accf04",
   "metadata": {},
   "source": [
    "### Reitingas pagal automobilio turėjimą"
   ]
  },
  {
   "cell_type": "code",
   "execution_count": 506,
   "id": "47e9bdee",
   "metadata": {},
   "outputs": [
    {
     "data": {
      "text/plain": [
       "car\n",
       "Y    12.881023\n",
       "N    12.270098\n",
       "Name: rating, dtype: float64"
      ]
     },
     "execution_count": 506,
     "metadata": {},
     "output_type": "execute_result"
    }
   ],
   "source": [
    "df6 = df2.groupby('car')['rating'].mean().sort_values().abs()\n",
    "df6"
   ]
  },
  {
   "cell_type": "code",
   "execution_count": 508,
   "id": "e0df0950",
   "metadata": {},
   "outputs": [
    {
     "data": {
      "text/plain": [
       "<AxesSubplot:title={'center':'Reitingas pagal automobilio turėjimą'}, ylabel='rating'>"
      ]
     },
     "execution_count": 508,
     "metadata": {},
     "output_type": "execute_result"
    },
    {
     "data": {
      "image/png": "[encoded data removed]",
      "text/plain": [
       "<Figure size 504x504 with 1 Axes>"
      ]
     },
     "metadata": {},
     "output_type": "display_data"
    }
   ],
   "source": [
    "df6.plot.pie(y='', title='Reitingas pagal automobilio turėjimą', autopct='%1.0f%%', figsize=(7, 7))"
   ]
  },
  {
   "cell_type": "code",
   "execution_count": 509,
   "id": "4ac0c102",
   "metadata": {},
   "outputs": [
    {
     "data": {
      "text/plain": [
       "<AxesSubplot:xlabel='car', ylabel='rating'>"
      ]
     },
     "execution_count": 509,
     "metadata": {},
     "output_type": "execute_result"
    },
    {
     "data": {
      "image/png": "[encoded data removed]",
      "text/plain": [
       "<Figure size 432x288 with 1 Axes>"
      ]
     },
     "metadata": {
      "needs_background": "light"
     },
     "output_type": "display_data"
    }
   ],
   "source": [
    "sns.boxplot(x='car', y='rating', data=df2)"
   ]
  },
  {
   "cell_type": "code",
   "execution_count": null,
   "id": "939693de",
   "metadata": {},
   "outputs": [],
   "source": [
    "# Kredito reitingas nepliklauso nuo automobilio turėjimo."
   ]
  },
  {
   "cell_type": "markdown",
   "id": "cc366a80",
   "metadata": {},
   "source": [
    "### Reitingas pagal nekilnojamojo turto turėjimą"
   ]
  },
  {
   "cell_type": "code",
   "execution_count": 510,
   "id": "350f38f3",
   "metadata": {},
   "outputs": [
    {
     "data": {
      "text/plain": [
       "realty\n",
       "N    12.984938\n",
       "Y    12.266588\n",
       "Name: rating, dtype: float64"
      ]
     },
     "execution_count": 510,
     "metadata": {},
     "output_type": "execute_result"
    }
   ],
   "source": [
    "df7 = df2.groupby('realty')['rating'].mean().sort_values().abs()\n",
    "df7"
   ]
  },
  {
   "cell_type": "code",
   "execution_count": 511,
   "id": "fb62e636",
   "metadata": {},
   "outputs": [
    {
     "data": {
      "text/plain": [
       "<AxesSubplot:title={'center':'Reitingas pagal nekilnojamojo turto turėjimą'}, ylabel='rating'>"
      ]
     },
     "execution_count": 511,
     "metadata": {},
     "output_type": "execute_result"
    },
    {
     "data": {
      "image/png": "[encoded data removed]",
      "text/plain": [
       "<Figure size 504x504 with 1 Axes>"
      ]
     },
     "metadata": {},
     "output_type": "display_data"
    }
   ],
   "source": [
    "df7.plot.pie(y='', title='Reitingas pagal nekilnojamojo turto turėjimą', autopct='%1.0f%%', figsize=(7, 7))"
   ]
  },
  {
   "cell_type": "code",
   "execution_count": 512,
   "id": "c139eb04",
   "metadata": {},
   "outputs": [
    {
     "data": {
      "text/plain": [
       "<AxesSubplot:xlabel='realty', ylabel='rating'>"
      ]
     },
     "execution_count": 512,
     "metadata": {},
     "output_type": "execute_result"
    },
    {
     "data": {
      "image/png": "[encoded data removed]",
      "text/plain": [
       "<Figure size 432x288 with 1 Axes>"
      ]
     },
     "metadata": {
      "needs_background": "light"
     },
     "output_type": "display_data"
    }
   ],
   "source": [
    "sns.boxplot(x='realty', y='rating', data=df2)"
   ]
  },
  {
   "cell_type": "code",
   "execution_count": null,
   "id": "e7bffd36",
   "metadata": {},
   "outputs": [],
   "source": [
    "# Kredito reitingas nepliklauso nuo nekilnojamojo turto turėjimo. Didesnę tikimybę negrąžinti paskolos laiku turi \n",
    "# žmonės turintys nekilnojamąją turtą."
   ]
  },
  {
   "cell_type": "markdown",
   "id": "3611942a",
   "metadata": {},
   "source": [
    "### Reitingas pagal vaikų skaičių"
   ]
  },
  {
   "cell_type": "code",
   "execution_count": 513,
   "id": "b53ab4c9",
   "metadata": {},
   "outputs": [
    {
     "data": {
      "text/plain": [
       "children\n",
       "3     13.145585\n",
       "2     12.757985\n",
       "0     12.610849\n",
       "5     12.250000\n",
       "1     12.010144\n",
       "4     10.761905\n",
       "14     6.333333\n",
       "7      6.000000\n",
       "19     0.000000\n",
       "Name: rating, dtype: float64"
      ]
     },
     "execution_count": 513,
     "metadata": {},
     "output_type": "execute_result"
    }
   ],
   "source": [
    "df8 = df2.groupby('children')['rating'].mean().sort_values().abs()\n",
    "df8"
   ]
  },
  {
   "cell_type": "code",
   "execution_count": 514,
   "id": "5be5feb6",
   "metadata": {},
   "outputs": [
    {
     "data": {
      "text/plain": [
       "<AxesSubplot:title={'center':'Reitingas pagal vaikų'}, ylabel='rating'>"
      ]
     },
     "execution_count": 514,
     "metadata": {},
     "output_type": "execute_result"
    },
    {
     "data": {
      "image/png": "[encoded data removed]",
      "text/plain": [
       "<Figure size 504x504 with 1 Axes>"
      ]
     },
     "metadata": {},
     "output_type": "display_data"
    }
   ],
   "source": [
    "df8.plot.pie(y='', title='Reitingas pagal vaikų', autopct='%1.0f%%', figsize=(7, 7))"
   ]
  },
  {
   "cell_type": "code",
   "execution_count": 515,
   "id": "ab80305a",
   "metadata": {},
   "outputs": [
    {
     "data": {
      "text/plain": [
       "<AxesSubplot:xlabel='children', ylabel='rating'>"
      ]
     },
     "execution_count": 515,
     "metadata": {},
     "output_type": "execute_result"
    },
    {
     "data": {
      "image/png": "[encoded data removed]",
      "text/plain": [
       "<Figure size 432x288 with 1 Axes>"
      ]
     },
     "metadata": {
      "needs_background": "light"
     },
     "output_type": "display_data"
    }
   ],
   "source": [
    "sns.boxplot(x='children', y='rating', data=df2)"
   ]
  },
  {
   "cell_type": "code",
   "execution_count": null,
   "id": "c00743b2",
   "metadata": {},
   "outputs": [],
   "source": [
    "# Kredito reitingas nepliklauso nuo vaikų skaičiaus."
   ]
  },
  {
   "cell_type": "markdown",
   "id": "32368bb0",
   "metadata": {},
   "source": [
    "### Reitingas pagal šeiminę padėtį"
   ]
  },
  {
   "cell_type": "code",
   "execution_count": 517,
   "id": "709ae4ce",
   "metadata": {},
   "outputs": [
    {
     "data": {
      "text/plain": [
       "marital_status\n",
       "Married                 12.790602\n",
       "Separated               12.777461\n",
       "Civil marriage          12.455008\n",
       "Widow                   11.596606\n",
       "Single / not married    11.201491\n",
       "Name: rating, dtype: float64"
      ]
     },
     "execution_count": 517,
     "metadata": {},
     "output_type": "execute_result"
    }
   ],
   "source": [
    "df9 = df2.groupby('marital_status')['rating'].mean().sort_values().abs()\n",
    "df9"
   ]
  },
  {
   "cell_type": "code",
   "execution_count": 518,
   "id": "747c386f",
   "metadata": {},
   "outputs": [
    {
     "data": {
      "text/plain": [
       "<AxesSubplot:title={'center':'Reitingas pagal šeiminę padėtį'}, ylabel='rating'>"
      ]
     },
     "execution_count": 518,
     "metadata": {},
     "output_type": "execute_result"
    },
    {
     "data": {
      "image/png": "[encoded data removed]",
      "text/plain": [
       "<Figure size 504x504 with 1 Axes>"
      ]
     },
     "metadata": {},
     "output_type": "display_data"
    }
   ],
   "source": [
    "df9.plot.pie(y='', title='Reitingas pagal šeiminę padėtį', autopct='%1.0f%%', figsize=(7, 7))"
   ]
  },
  {
   "cell_type": "code",
   "execution_count": 519,
   "id": "c5533372",
   "metadata": {},
   "outputs": [
    {
     "data": {
      "text/plain": [
       "<AxesSubplot:xlabel='marital_status', ylabel='rating'>"
      ]
     },
     "execution_count": 519,
     "metadata": {},
     "output_type": "execute_result"
    },
    {
     "data": {
      "image/png": "[encoded data removed]",
      "text/plain": [
       "<Figure size 432x288 with 1 Axes>"
      ]
     },
     "metadata": {
      "needs_background": "light"
     },
     "output_type": "display_data"
    }
   ],
   "source": [
    "sns.boxplot(x='marital_status', y='rating', data=df2)"
   ]
  },
  {
   "cell_type": "code",
   "execution_count": null,
   "id": "fee00415",
   "metadata": {},
   "outputs": [],
   "source": [
    "# Kredito reitingas nepliklauso nuo šeimyninės padėties. Didesnę tikimybę negrąžinti paskolos laiku turi vedę\n",
    "# žmonės."
   ]
  },
  {
   "cell_type": "markdown",
   "id": "44ce0fe4",
   "metadata": {},
   "source": [
    "### Reitingas pagal būsto tipą"
   ]
  },
  {
   "cell_type": "code",
   "execution_count": 520,
   "id": "e90e9cfc",
   "metadata": {},
   "outputs": [
    {
     "data": {
      "text/plain": [
       "housing_type\n",
       "Co-op apartment        13.476190\n",
       "Office apartment       12.606870\n",
       "House / apartment      12.563076\n",
       "Municipal apartment    12.483156\n",
       "With parents           11.792230\n",
       "Rented apartment       10.946087\n",
       "Name: rating, dtype: float64"
      ]
     },
     "execution_count": 520,
     "metadata": {},
     "output_type": "execute_result"
    }
   ],
   "source": [
    "df10 = df2.groupby('housing_type')['rating'].mean().sort_values().abs()\n",
    "df10"
   ]
  },
  {
   "cell_type": "code",
   "execution_count": 521,
   "id": "3f52cd20",
   "metadata": {},
   "outputs": [
    {
     "data": {
      "text/plain": [
       "<AxesSubplot:title={'center':'Reitingas pagal būsto tipą'}, ylabel='rating'>"
      ]
     },
     "execution_count": 521,
     "metadata": {},
     "output_type": "execute_result"
    },
    {
     "data": {
      "image/png": "[encoded data removed]",
      "text/plain": [
       "<Figure size 504x504 with 1 Axes>"
      ]
     },
     "metadata": {},
     "output_type": "display_data"
    }
   ],
   "source": [
    "df10.plot.pie(y='', title='Reitingas pagal būsto tipą', autopct='%1.0f%%', figsize=(7, 7))"
   ]
  },
  {
   "cell_type": "code",
   "execution_count": 522,
   "id": "48f623ca",
   "metadata": {},
   "outputs": [
    {
     "data": {
      "text/plain": [
       "<AxesSubplot:xlabel='housing_type', ylabel='rating'>"
      ]
     },
     "execution_count": 522,
     "metadata": {},
     "output_type": "execute_result"
    },
    {
     "data": {
      "image/png": "[encoded data removed]",
      "text/plain": [
       "<Figure size 432x288 with 1 Axes>"
      ]
     },
     "metadata": {
      "needs_background": "light"
     },
     "output_type": "display_data"
    }
   ],
   "source": [
    "sns.boxplot(x='housing_type', y='rating', data=df2)"
   ]
  },
  {
   "cell_type": "code",
   "execution_count": null,
   "id": "1cda2f7f",
   "metadata": {},
   "outputs": [],
   "source": [
    "# Kredito reitingas nepliklauso nuo būsto tipo. Didesnę tikimybę negrąžinti paskolos laiku turi žmonės,\n",
    "# gyvenantis namuose/bute."
   ]
  },
  {
   "cell_type": "markdown",
   "id": "4155d7f5",
   "metadata": {},
   "source": [
    "### Reitingas pagal profesijos tipą"
   ]
  },
  {
   "cell_type": "code",
   "execution_count": 523,
   "id": "a21fff31",
   "metadata": {},
   "outputs": [
    {
     "data": {
      "text/plain": [
       "occupation\n",
       "High skill tech staff    13.402025\n",
       "Secretaries              13.370861\n",
       "Accountants              13.320709\n",
       "Drivers                  13.155753\n",
       "Managers                 12.940903\n",
       "Laborers                 12.680245\n",
       "Medicine staff           12.662800\n",
       "Core staff               12.605959\n",
       "                         12.499249\n",
       "Cleaning staff           11.989111\n",
       "Low-skill Laborers       11.902857\n",
       "Sales staff              11.849928\n",
       "Private service staff    11.372093\n",
       "Cooking staff            11.149618\n",
       "IT staff                 10.783333\n",
       "Security staff           10.260135\n",
       "HR staff                  9.552941\n",
       "Waiters/barmen staff      8.367816\n",
       "Realty agents             7.215190\n",
       "Name: rating, dtype: float64"
      ]
     },
     "execution_count": 523,
     "metadata": {},
     "output_type": "execute_result"
    }
   ],
   "source": [
    "df11 = df2.groupby('occupation')['rating'].mean().sort_values().abs()\n",
    "df11"
   ]
  },
  {
   "cell_type": "code",
   "execution_count": 524,
   "id": "0a57ae3c",
   "metadata": {},
   "outputs": [
    {
     "data": {
      "text/plain": [
       "<AxesSubplot:title={'center':'Reitingas pagal profesijos tipą'}, ylabel='rating'>"
      ]
     },
     "execution_count": 524,
     "metadata": {},
     "output_type": "execute_result"
    },
    {
     "data": {
      "image/png": "[encoded data removed]",
      "text/plain": [
       "<Figure size 504x504 with 1 Axes>"
      ]
     },
     "metadata": {},
     "output_type": "display_data"
    }
   ],
   "source": [
    "df11.plot.pie(y='', title='Reitingas pagal profesijos tipą', autopct='%1.0f%%', figsize=(7, 7))"
   ]
  },
  {
   "cell_type": "code",
   "execution_count": 525,
   "id": "86cf5dd5",
   "metadata": {},
   "outputs": [],
   "source": [
    "# Kredito reitingas nepliklauso nuo profesijos tipo."
   ]
  },
  {
   "cell_type": "markdown",
   "id": "66f72ba2",
   "metadata": {},
   "source": [
    "### Reitingas pagal šeimos dydį"
   ]
  },
  {
   "cell_type": "code",
   "execution_count": 526,
   "id": "7353fb43",
   "metadata": {},
   "outputs": [
    {
     "data": {
      "text/plain": [
       "family_size\n",
       "5.0     13.690176\n",
       "2.0     12.840518\n",
       "4.0     12.652930\n",
       "3.0     12.142190\n",
       "1.0     11.771719\n",
       "6.0     11.672414\n",
       "7.0     11.368421\n",
       "15.0     6.333333\n",
       "9.0      6.000000\n",
       "20.0     0.000000\n",
       "Name: rating, dtype: float64"
      ]
     },
     "execution_count": 526,
     "metadata": {},
     "output_type": "execute_result"
    }
   ],
   "source": [
    "df12 = df2.groupby('family_size')['rating'].mean().sort_values().abs()\n",
    "df12"
   ]
  },
  {
   "cell_type": "code",
   "execution_count": 527,
   "id": "e7a7a734",
   "metadata": {},
   "outputs": [
    {
     "data": {
      "text/plain": [
       "<AxesSubplot:title={'center':'Reitingas pagal šeimos dydį'}, ylabel='rating'>"
      ]
     },
     "execution_count": 527,
     "metadata": {},
     "output_type": "execute_result"
    },
    {
     "data": {
      "image/png": "[encoded data removed]",
      "text/plain": [
       "<Figure size 504x504 with 1 Axes>"
      ]
     },
     "metadata": {},
     "output_type": "display_data"
    }
   ],
   "source": [
    "df12.plot.pie(y='', title='Reitingas pagal šeimos dydį', autopct='%1.0f%%', figsize=(7, 7))"
   ]
  },
  {
   "cell_type": "code",
   "execution_count": null,
   "id": "ee429263",
   "metadata": {},
   "outputs": [],
   "source": [
    "# Kredito reitingas nepliklauso nuo šeimos dydžio."
   ]
  },
  {
   "cell_type": "markdown",
   "id": "fb79f50b",
   "metadata": {},
   "source": [
    "### Reitingas pagal amžių"
   ]
  },
  {
   "cell_type": "code",
   "execution_count": 530,
   "id": "7adb5a8b",
   "metadata": {},
   "outputs": [
    {
     "data": {
      "text/plain": [
       "age\n",
       "30.0    12.895181\n",
       "40.0    12.797726\n",
       "60.0    12.789831\n",
       "50.0    12.787955\n",
       "20.0    10.189274\n",
       "Name: rating, dtype: float64"
      ]
     },
     "execution_count": 530,
     "metadata": {},
     "output_type": "execute_result"
    }
   ],
   "source": [
    "df13 = df2.groupby('age')['rating'].mean().sort_values().abs()\n",
    "df13"
   ]
  },
  {
   "cell_type": "code",
   "execution_count": 531,
   "id": "00886a25",
   "metadata": {},
   "outputs": [
    {
     "data": {
      "text/plain": [
       "<AxesSubplot:title={'center':'Reitingas pagal amžių'}, ylabel='rating'>"
      ]
     },
     "execution_count": 531,
     "metadata": {},
     "output_type": "execute_result"
    },
    {
     "data": {
      "image/png": "[encoded data removed]",
      "text/plain": [
       "<Figure size 504x504 with 1 Axes>"
      ]
     },
     "metadata": {},
     "output_type": "display_data"
    }
   ],
   "source": [
    "df13.plot.pie(y='', title='Reitingas pagal amžių', autopct='%1.0f%%', figsize=(7, 7))"
   ]
  },
  {
   "cell_type": "code",
   "execution_count": 532,
   "id": "be5a7a33",
   "metadata": {},
   "outputs": [
    {
     "data": {
      "text/plain": [
       "<AxesSubplot:xlabel='age', ylabel='rating'>"
      ]
     },
     "execution_count": 532,
     "metadata": {},
     "output_type": "execute_result"
    },
    {
     "data": {
      "image/png": "[encoded data removed]",
      "text/plain": [
       "<Figure size 432x288 with 1 Axes>"
      ]
     },
     "metadata": {
      "needs_background": "light"
     },
     "output_type": "display_data"
    }
   ],
   "source": [
    "sns.boxplot(x='age', y='rating', data=df2)"
   ]
  },
  {
   "cell_type": "code",
   "execution_count": null,
   "id": "fbe98b3b",
   "metadata": {},
   "outputs": [],
   "source": [
    "# Kredito reitingas nepliklauso nuo amžiaus, šiek tiek mažesnį reitingą turi 20-30 m. žmonės."
   ]
  },
  {
   "cell_type": "markdown",
   "id": "f8e4752c",
   "metadata": {},
   "source": [
    "### Reitingas pagal darbo stažą"
   ]
  },
  {
   "cell_type": "code",
   "execution_count": 533,
   "id": "e4cedd01",
   "metadata": {},
   "outputs": [
    {
     "data": {
      "text/plain": [
       "years_employed\n",
       "40.0          22.039216\n",
       "10.0          13.769375\n",
       "30.0          13.465753\n",
       "20.0          13.274625\n",
       "Unemployed    12.318826\n",
       "0.0           12.134873\n",
       "Name: rating, dtype: float64"
      ]
     },
     "execution_count": 533,
     "metadata": {},
     "output_type": "execute_result"
    }
   ],
   "source": [
    "df14 = df2.groupby('years_employed')['rating'].mean().sort_values().abs()\n",
    "df14"
   ]
  },
  {
   "cell_type": "code",
   "execution_count": 534,
   "id": "554fa380",
   "metadata": {},
   "outputs": [
    {
     "data": {
      "text/plain": [
       "<AxesSubplot:title={'center':'Reitingas pagal darbo stažą'}, ylabel='rating'>"
      ]
     },
     "execution_count": 534,
     "metadata": {},
     "output_type": "execute_result"
    },
    {
     "data": {
      "image/png": "[encoded data removed]",
      "text/plain": [
       "<Figure size 504x504 with 1 Axes>"
      ]
     },
     "metadata": {},
     "output_type": "display_data"
    }
   ],
   "source": [
    "df14.plot.pie(y='', title='Reitingas pagal darbo stažą', autopct='%1.0f%%', figsize=(7, 7))"
   ]
  },
  {
   "cell_type": "code",
   "execution_count": 535,
   "id": "26782d50",
   "metadata": {},
   "outputs": [
    {
     "data": {
      "text/plain": [
       "<AxesSubplot:xlabel='years_employed', ylabel='rating'>"
      ]
     },
     "execution_count": 535,
     "metadata": {},
     "output_type": "execute_result"
    },
    {
     "data": {
      "image/png": "[encoded data removed]",
      "text/plain": [
       "<Figure size 432x288 with 1 Axes>"
      ]
     },
     "metadata": {
      "needs_background": "light"
     },
     "output_type": "display_data"
    }
   ],
   "source": [
    "sns.boxplot(x='years_employed', y='rating', data=df2)"
   ]
  },
  {
   "cell_type": "code",
   "execution_count": null,
   "id": "40572c26",
   "metadata": {},
   "outputs": [],
   "source": [
    "# Aukštesnį kredito reitingą turi žmonės,\n",
    "# gyvenantis namuose/bute, žmonės su darbo stažu virš 40 metų. Didesnę tikimybę negrąžinti paskolos laiku \n",
    "# turi žmonės be darbo arba turintys mažiau nei 20 metų staža."
   ]
  },
  {
   "cell_type": "markdown",
   "id": "bc030a8a",
   "metadata": {},
   "source": [
    "## Koreliacija tarp pajamų dydžio ir kreditingumo reitingo"
   ]
  },
  {
   "cell_type": "code",
   "execution_count": 536,
   "id": "641f75e3",
   "metadata": {},
   "outputs": [
    {
     "data": {
      "text/plain": [
       "<seaborn.axisgrid.JointGrid at 0x7fbdc4840f10>"
      ]
     },
     "execution_count": 536,
     "metadata": {},
     "output_type": "execute_result"
    },
    {
     "data": {
      "image/png": "[encoded data removed]",
      "text/plain": [
       "<Figure size 432x432 with 3 Axes>"
      ]
     },
     "metadata": {
      "needs_background": "light"
     },
     "output_type": "display_data"
    }
   ],
   "source": [
    "sns.jointplot(x='annual_income', y='rating', data=df2)"
   ]
  },
  {
   "cell_type": "code",
   "execution_count": null,
   "id": "8e83080b",
   "metadata": {},
   "outputs": [],
   "source": [
    "# Kuo mažesnes pajamas gauna žmones, tuo daugiau jie naudojasi kredito kortelėmis ir tuo didesnę tikimybę \n",
    "# negrąžinti paskolos laiku."
   ]
  },
  {
   "cell_type": "markdown",
   "id": "44be5f4e",
   "metadata": {},
   "source": [
    "## Išvados"
   ]
  },
  {
   "cell_type": "code",
   "execution_count": null,
   "id": "d4b7ee81",
   "metadata": {},
   "outputs": [],
   "source": [
    "# 1. Paanalizavus duomenis išaiškinome, kad daugumą kredito kortelių naudotojų sudaro:\n",
    "#    moterys (67%),\n",
    "#    žmonės nuo 30 iki 60 metų (76%), \n",
    "#    žmonės turintys vidurinį išsilavinimą (69%), \n",
    "#    dirbantys žmonės (52%),\n",
    "#    vedę žmonės (68%), \n",
    "#    žmonės turintys dviejų žmonių šeimą (53%), \n",
    "#    žmonės neturintys vaikų (69%), \n",
    "#    žmonės neturintys automobilio (63%), \n",
    "#    žmonės turintys nekilnojamąjį turtą (69%), \n",
    "#    žmonės gyvenantys namuose arba bute (90%),\n",
    "#    žmonės turintys mažiau nei 10 metų darbo stažą (62%).\n",
    "# 2. Pagal duomenis kredito reitingui įtakos turi pajamų šaltinis, išsilavinimas, darbo stažas.\n",
    "# 3. Aukščiausią kreditingumo reitingą turi studentai, žmonės su akademiniu laipsniu, žmonės su darbo stažu virš \n",
    "#    40 metų, bet jie naudojasi kredito kortelėmis mažiau už kitų naudotojų tipus (sudaro ne daugiau nei 1% nuo\n",
    "#    visų naudotojų).\n",
    "# 4. Tarp pajamų dydžio ir kreditingumo reitingo yra koreliacija: kuo mažesnes pajamas gauna žmones, tuo daugiau \n",
    "#    jie naudojasi kredito kortelėmis ir tuo didesnę tikimybę negrąžinti paskolos laiku."
   ]
  },
  {
   "cell_type": "code",
   "execution_count": 333,
   "id": "47bd7bff",
   "metadata": {},
   "outputs": [],
   "source": [
    "df2.to_csv('credit_card_analysis.csv')"
   ]
  },
  {
   "cell_type": "code",
   "execution_count": null,
   "id": "332a1161",
   "metadata": {},
   "outputs": [],
   "source": []
  },
  {
   "cell_type": "code",
   "execution_count": null,
   "id": "28519e2e",
   "metadata": {},
   "outputs": [],
   "source": []
  },
  {
   "cell_type": "code",
   "execution_count": null,
   "id": "c1544b93",
   "metadata": {},
   "outputs": [],
   "source": []
  },
  {
   "cell_type": "code",
   "execution_count": null,
   "id": "df912322",
   "metadata": {},
   "outputs": [],
   "source": []
  },
  {
   "cell_type": "code",
   "execution_count": null,
   "id": "521fa0b8",
   "metadata": {},
   "outputs": [],
   "source": []
  }
 ],
 "metadata": {
  "kernelspec": {
   "display_name": "Python 3",
   "language": "python",
   "name": "python3"
  },
  "language_info": {
   "codemirror_mode": {
    "name": "ipython",
    "version": 3
   },
   "file_extension": ".py",
   "mimetype": "text/x-python",
   "name": "python",
   "nbconvert_exporter": "python",
   "pygments_lexer": "ipython3",
   "version": "3.8.8"
  },
  "toc": {
   "base_numbering": 1,
   "nav_menu": {
    "height": "185px",
    "width": "319px"
   },
   "number_sections": true,
   "sideBar": true,
   "skip_h1_title": false,
   "title_cell": "Table of Contents",
   "title_sidebar": "Contents",
   "toc_cell": false,
   "toc_position": {},
   "toc_section_display": true,
   "toc_window_display": false
  }
 },
 "nbformat": 4,
 "nbformat_minor": 5
}
